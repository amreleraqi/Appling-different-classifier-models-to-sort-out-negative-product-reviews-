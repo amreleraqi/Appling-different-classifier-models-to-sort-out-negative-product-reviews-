{
  "cells": [
    {
      "cell_type": "markdown",
      "metadata": {
        "id": "9e728efc"
      },
      "source": [
        "1) Clothing ID: Integer Categorical variable that refers to the specific piece being reviewed.\n",
        "\n",
        "2) Age: Positive Integer variable of the reviewers age.\n",
        "\n",
        "3) Title: String variable for the title of the review.\n",
        "\n",
        "4) Review Text: String variable for the review body.\n",
        "\n",
        "5) Rating: Positive Ordinal Integer variable for the product score granted by the customer from 1 Worst, to 5 Best.\n",
        "\n",
        "6) Recommended IND: Binary variable stating where the customer recommends the product where 1 is recommended, 0 is not recommended.\n",
        "\n",
        "7) Positive Feedback Count: Positive Integer documenting the number of other customers who found this review positive.\n",
        "\n",
        "8) Division Name: Categorical name of the product high level division.\n",
        "\n",
        "9) Department Name: Categorical name of the product department name.\n",
        "\n",
        "10) Class Name: Categorical name of the product class name."
      ]
    },
    {
      "cell_type": "code",
      "execution_count": null,
      "metadata": {
        "execution": {
          "iopub.execute_input": "2022-10-21T10:13:52.326769Z",
          "iopub.status.busy": "2022-10-21T10:13:52.326287Z",
          "iopub.status.idle": "2022-10-21T10:13:53.763854Z",
          "shell.execute_reply": "2022-10-21T10:13:53.763012Z",
          "shell.execute_reply.started": "2022-10-21T10:13:52.326736Z"
        },
        "id": "332efda0"
      },
      "outputs": [],
      "source": [
        "import pandas as pd\n",
        "import numpy as np\n",
        "import seaborn as sns\n",
        "import matplotlib as mpl\n",
        "import matplotlib.pyplot as plt"
      ]
    },
    {
      "cell_type": "code",
      "execution_count": null,
      "metadata": {
        "execution": {
          "iopub.execute_input": "2022-10-21T10:21:19.977691Z",
          "iopub.status.busy": "2022-10-21T10:21:19.977105Z",
          "iopub.status.idle": "2022-10-21T10:21:20.290370Z",
          "shell.execute_reply": "2022-10-21T10:21:20.289674Z",
          "shell.execute_reply.started": "2022-10-21T10:21:19.977653Z"
        },
        "id": "78e1f21f"
      },
      "outputs": [],
      "source": [
        "df=pd.read_csv(\"/Womens Clothing E-Commerce Reviews.csv\")"
      ]
    },
    {
      "cell_type": "code",
      "execution_count": null,
      "metadata": {
        "id": "aKJqK1SDXbbq"
      },
      "outputs": [],
      "source": []
    },
    {
      "cell_type": "code",
      "execution_count": null,
      "metadata": {
        "execution": {
          "iopub.execute_input": "2022-10-20T20:29:04.862701Z",
          "iopub.status.busy": "2022-10-20T20:29:04.861986Z",
          "iopub.status.idle": "2022-10-20T20:29:05.382646Z",
          "shell.execute_reply": "2022-10-20T20:29:05.381978Z",
          "shell.execute_reply.started": "2022-10-20T20:29:04.862660Z"
        },
        "id": "Khc5oUUgXbbq"
      },
      "outputs": [],
      "source": [
        "c=df['Review Text'].str.split(' ', expand=True)"
      ]
    },
    {
      "cell_type": "code",
      "execution_count": null,
      "metadata": {
        "execution": {
          "iopub.execute_input": "2022-10-20T20:39:57.519646Z",
          "iopub.status.busy": "2022-10-20T20:39:57.519341Z",
          "iopub.status.idle": "2022-10-20T20:44:35.395233Z",
          "shell.execute_reply": "2022-10-20T20:44:35.394175Z",
          "shell.execute_reply.started": "2022-10-20T20:39:57.519618Z"
        },
        "id": "p1Zz6GG7Xbbr"
      },
      "outputs": [],
      "source": [
        "out = (\n",
        "    df['Review Text'].str.get_dummies('/').sum()\n",
        "        .rename('Review_Text')\n",
        "        .reset_index(name='count')\n",
        "        .sort_values('count', ascending=False, ignore_index=True)\n",
        ")"
      ]
    },
    {
      "cell_type": "code",
      "execution_count": null,
      "metadata": {
        "execution": {
          "iopub.execute_input": "2022-10-20T20:45:52.790550Z",
          "iopub.status.busy": "2022-10-20T20:45:52.790282Z",
          "iopub.status.idle": "2022-10-20T20:45:52.803280Z",
          "shell.execute_reply": "2022-10-20T20:45:52.802369Z",
          "shell.execute_reply.started": "2022-10-20T20:45:52.790522Z"
        },
        "id": "k2bt4z1wXbbr",
        "outputId": "1abcc5cb-efd4-4736-a65d-a2ffa106aad3"
      },
      "outputs": [
        {
          "data": {
            "text/html": [
              "<div>\n",
              "<style scoped>\n",
              "    .dataframe tbody tr th:only-of-type {\n",
              "        vertical-align: middle;\n",
              "    }\n",
              "\n",
              "    .dataframe tbody tr th {\n",
              "        vertical-align: top;\n",
              "    }\n",
              "\n",
              "    .dataframe thead th {\n",
              "        text-align: right;\n",
              "    }\n",
              "</style>\n",
              "<table border=\"1\" class=\"dataframe\">\n",
              "  <thead>\n",
              "    <tr style=\"text-align: right;\">\n",
              "      <th></th>\n",
              "      <th>index</th>\n",
              "      <th>count</th>\n",
              "    </tr>\n",
              "  </thead>\n",
              "  <tbody>\n",
              "    <tr>\n",
              "      <th>0</th>\n",
              "      <td>28</td>\n",
              "      <td>12</td>\n",
              "    </tr>\n",
              "    <tr>\n",
              "      <th>1</th>\n",
              "      <td>27</td>\n",
              "      <td>5</td>\n",
              "    </tr>\n",
              "    <tr>\n",
              "      <th>2</th>\n",
              "      <td>winter</td>\n",
              "      <td>5</td>\n",
              "    </tr>\n",
              "    <tr>\n",
              "      <th>3</th>\n",
              "      <td>This sweater</td>\n",
              "      <td>5</td>\n",
              "    </tr>\n",
              "    <tr>\n",
              "      <th>4</th>\n",
              "      <td>shoulders</td>\n",
              "      <td>5</td>\n",
              "    </tr>\n",
              "    <tr>\n",
              "      <th>...</th>\n",
              "      <td>...</td>\n",
              "      <td>...</td>\n",
              "    </tr>\n",
              "    <tr>\n",
              "      <th>25677</th>\n",
              "      <td>I never would have thought that i could wear a...</td>\n",
              "      <td>1</td>\n",
              "    </tr>\n",
              "    <tr>\n",
              "      <th>25678</th>\n",
              "      <td>I never would have given these pants a second ...</td>\n",
              "      <td>1</td>\n",
              "    </tr>\n",
              "    <tr>\n",
              "      <th>25679</th>\n",
              "      <td>I never owned an 'older' version, so nothing t...</td>\n",
              "      <td>1</td>\n",
              "    </tr>\n",
              "    <tr>\n",
              "      <th>25680</th>\n",
              "      <td>I never noticed this sweater online but when i...</td>\n",
              "      <td>1</td>\n",
              "    </tr>\n",
              "    <tr>\n",
              "      <th>25681</th>\n",
              "      <td>you move, you can see a lot). if you don't mov...</td>\n",
              "      <td>1</td>\n",
              "    </tr>\n",
              "  </tbody>\n",
              "</table>\n",
              "<p>25682 rows × 2 columns</p>\n",
              "</div>"
            ],
            "text/plain": [
              "                                                   index  count\n",
              "0                                                     28     12\n",
              "1                                                     27      5\n",
              "2                                                 winter      5\n",
              "3                                           This sweater      5\n",
              "4                                              shoulders      5\n",
              "...                                                  ...    ...\n",
              "25677  I never would have thought that i could wear a...      1\n",
              "25678  I never would have given these pants a second ...      1\n",
              "25679  I never owned an 'older' version, so nothing t...      1\n",
              "25680  I never noticed this sweater online but when i...      1\n",
              "25681  you move, you can see a lot). if you don't mov...      1\n",
              "\n",
              "[25682 rows x 2 columns]"
            ]
          },
          "execution_count": 14,
          "metadata": {},
          "output_type": "execute_result"
        }
      ],
      "source": [
        "out"
      ]
    },
    {
      "cell_type": "code",
      "execution_count": null,
      "metadata": {
        "execution": {
          "iopub.execute_input": "2022-10-20T20:28:05.894066Z",
          "iopub.status.busy": "2022-10-20T20:28:05.893443Z",
          "iopub.status.idle": "2022-10-20T20:28:05.917964Z",
          "shell.execute_reply": "2022-10-20T20:28:05.916956Z",
          "shell.execute_reply.started": "2022-10-20T20:28:05.894027Z"
        },
        "id": "adef92b8",
        "outputId": "1fb09c6c-3c3c-40da-f69f-150830cf008a"
      },
      "outputs": [
        {
          "data": {
            "text/html": [
              "<div>\n",
              "<style scoped>\n",
              "    .dataframe tbody tr th:only-of-type {\n",
              "        vertical-align: middle;\n",
              "    }\n",
              "\n",
              "    .dataframe tbody tr th {\n",
              "        vertical-align: top;\n",
              "    }\n",
              "\n",
              "    .dataframe thead th {\n",
              "        text-align: right;\n",
              "    }\n",
              "</style>\n",
              "<table border=\"1\" class=\"dataframe\">\n",
              "  <thead>\n",
              "    <tr style=\"text-align: right;\">\n",
              "      <th></th>\n",
              "      <th>Unnamed: 0</th>\n",
              "      <th>Clothing ID</th>\n",
              "      <th>Age</th>\n",
              "      <th>Title</th>\n",
              "      <th>Review Text</th>\n",
              "      <th>Rating</th>\n",
              "      <th>Recommended IND</th>\n",
              "      <th>Positive Feedback Count</th>\n",
              "      <th>Division Name</th>\n",
              "      <th>Department Name</th>\n",
              "      <th>Class Name</th>\n",
              "    </tr>\n",
              "  </thead>\n",
              "  <tbody>\n",
              "    <tr>\n",
              "      <th>0</th>\n",
              "      <td>0</td>\n",
              "      <td>767</td>\n",
              "      <td>33</td>\n",
              "      <td>NaN</td>\n",
              "      <td>Absolutely wonderful - silky and sexy and comf...</td>\n",
              "      <td>4</td>\n",
              "      <td>1</td>\n",
              "      <td>0</td>\n",
              "      <td>Initmates</td>\n",
              "      <td>Intimate</td>\n",
              "      <td>Intimates</td>\n",
              "    </tr>\n",
              "    <tr>\n",
              "      <th>1</th>\n",
              "      <td>1</td>\n",
              "      <td>1080</td>\n",
              "      <td>34</td>\n",
              "      <td>NaN</td>\n",
              "      <td>Love this dress!  it's sooo pretty.  i happene...</td>\n",
              "      <td>5</td>\n",
              "      <td>1</td>\n",
              "      <td>4</td>\n",
              "      <td>General</td>\n",
              "      <td>Dresses</td>\n",
              "      <td>Dresses</td>\n",
              "    </tr>\n",
              "    <tr>\n",
              "      <th>2</th>\n",
              "      <td>2</td>\n",
              "      <td>1077</td>\n",
              "      <td>60</td>\n",
              "      <td>Some major design flaws</td>\n",
              "      <td>I had such high hopes for this dress and reall...</td>\n",
              "      <td>3</td>\n",
              "      <td>0</td>\n",
              "      <td>0</td>\n",
              "      <td>General</td>\n",
              "      <td>Dresses</td>\n",
              "      <td>Dresses</td>\n",
              "    </tr>\n",
              "    <tr>\n",
              "      <th>3</th>\n",
              "      <td>3</td>\n",
              "      <td>1049</td>\n",
              "      <td>50</td>\n",
              "      <td>My favorite buy!</td>\n",
              "      <td>I love, love, love this jumpsuit. it's fun, fl...</td>\n",
              "      <td>5</td>\n",
              "      <td>1</td>\n",
              "      <td>0</td>\n",
              "      <td>General Petite</td>\n",
              "      <td>Bottoms</td>\n",
              "      <td>Pants</td>\n",
              "    </tr>\n",
              "    <tr>\n",
              "      <th>4</th>\n",
              "      <td>4</td>\n",
              "      <td>847</td>\n",
              "      <td>47</td>\n",
              "      <td>Flattering shirt</td>\n",
              "      <td>This shirt is very flattering to all due to th...</td>\n",
              "      <td>5</td>\n",
              "      <td>1</td>\n",
              "      <td>6</td>\n",
              "      <td>General</td>\n",
              "      <td>Tops</td>\n",
              "      <td>Blouses</td>\n",
              "    </tr>\n",
              "  </tbody>\n",
              "</table>\n",
              "</div>"
            ],
            "text/plain": [
              "   Unnamed: 0  Clothing ID  Age                    Title  \\\n",
              "0           0          767   33                      NaN   \n",
              "1           1         1080   34                      NaN   \n",
              "2           2         1077   60  Some major design flaws   \n",
              "3           3         1049   50         My favorite buy!   \n",
              "4           4          847   47         Flattering shirt   \n",
              "\n",
              "                                         Review Text  Rating  Recommended IND  \\\n",
              "0  Absolutely wonderful - silky and sexy and comf...       4                1   \n",
              "1  Love this dress!  it's sooo pretty.  i happene...       5                1   \n",
              "2  I had such high hopes for this dress and reall...       3                0   \n",
              "3  I love, love, love this jumpsuit. it's fun, fl...       5                1   \n",
              "4  This shirt is very flattering to all due to th...       5                1   \n",
              "\n",
              "   Positive Feedback Count   Division Name Department Name Class Name  \n",
              "0                        0       Initmates        Intimate  Intimates  \n",
              "1                        4         General         Dresses    Dresses  \n",
              "2                        0         General         Dresses    Dresses  \n",
              "3                        0  General Petite         Bottoms      Pants  \n",
              "4                        6         General            Tops    Blouses  "
            ]
          },
          "execution_count": 3,
          "metadata": {},
          "output_type": "execute_result"
        }
      ],
      "source": [
        "df.head()"
      ]
    },
    {
      "cell_type": "code",
      "execution_count": null,
      "metadata": {
        "execution": {
          "iopub.status.busy": "2022-10-21T10:13:31.413737Z",
          "iopub.status.idle": "2022-10-21T10:13:31.414643Z",
          "shell.execute_reply": "2022-10-21T10:13:31.414355Z",
          "shell.execute_reply.started": "2022-10-21T10:13:31.414324Z"
        },
        "id": "5fbfd4a9"
      },
      "outputs": [],
      "source": [
        "df.shape"
      ]
    },
    {
      "cell_type": "markdown",
      "metadata": {
        "id": "a439236a"
      },
      "source": [
        "# Data PreProcessing"
      ]
    },
    {
      "cell_type": "code",
      "execution_count": null,
      "metadata": {
        "execution": {
          "iopub.execute_input": "2022-10-21T10:21:25.155418Z",
          "iopub.status.busy": "2022-10-21T10:21:25.154882Z",
          "iopub.status.idle": "2022-10-21T10:21:25.177318Z",
          "shell.execute_reply": "2022-10-21T10:21:25.176533Z",
          "shell.execute_reply.started": "2022-10-21T10:21:25.155356Z"
        },
        "id": "b19f679c"
      },
      "outputs": [],
      "source": [
        "df.drop(['Unnamed: 0'], axis = 1, inplace = True) #remove unnecessary columns from data\n"
      ]
    },
    {
      "cell_type": "code",
      "execution_count": null,
      "metadata": {
        "execution": {
          "iopub.execute_input": "2022-10-21T10:21:26.978849Z",
          "iopub.status.busy": "2022-10-21T10:21:26.978561Z",
          "iopub.status.idle": "2022-10-21T10:21:27.012437Z",
          "shell.execute_reply": "2022-10-21T10:21:27.011255Z",
          "shell.execute_reply.started": "2022-10-21T10:21:26.978819Z"
        },
        "id": "3c678d25"
      },
      "outputs": [],
      "source": [
        "df=df.drop_duplicates()"
      ]
    },
    {
      "cell_type": "code",
      "execution_count": null,
      "metadata": {
        "execution": {
          "iopub.execute_input": "2022-10-21T10:21:27.688789Z",
          "iopub.status.busy": "2022-10-21T10:21:27.688428Z",
          "iopub.status.idle": "2022-10-21T10:21:27.703415Z",
          "shell.execute_reply": "2022-10-21T10:21:27.702646Z",
          "shell.execute_reply.started": "2022-10-21T10:21:27.688750Z"
        },
        "id": "a356bad8",
        "outputId": "b5c4a7c0-ca41-4bfc-a2c0-677ac77e5584"
      },
      "outputs": [
        {
          "data": {
            "text/plain": [
              "825"
            ]
          },
          "execution_count": 8,
          "metadata": {},
          "output_type": "execute_result"
        }
      ],
      "source": [
        "df[\"Review Text\"].isnull().sum()"
      ]
    },
    {
      "cell_type": "code",
      "execution_count": null,
      "metadata": {
        "execution": {
          "iopub.execute_input": "2022-10-21T10:21:30.698887Z",
          "iopub.status.busy": "2022-10-21T10:21:30.698418Z",
          "iopub.status.idle": "2022-10-21T10:21:30.713497Z",
          "shell.execute_reply": "2022-10-21T10:21:30.712459Z",
          "shell.execute_reply.started": "2022-10-21T10:21:30.698853Z"
        },
        "id": "4598b8a4"
      },
      "outputs": [],
      "source": [
        "df.dropna(subset=['Review Text'], inplace= True)\n"
      ]
    },
    {
      "cell_type": "code",
      "execution_count": null,
      "metadata": {
        "execution": {
          "iopub.execute_input": "2022-10-21T10:21:35.037731Z",
          "iopub.status.busy": "2022-10-21T10:21:35.037449Z",
          "iopub.status.idle": "2022-10-21T10:21:35.048969Z",
          "shell.execute_reply": "2022-10-21T10:21:35.047843Z",
          "shell.execute_reply.started": "2022-10-21T10:21:35.037700Z"
        },
        "id": "3323ed72",
        "outputId": "7c9c194e-7d59-4750-98ff-df86dd8871e4"
      },
      "outputs": [
        {
          "data": {
            "text/plain": [
              "0"
            ]
          },
          "execution_count": 10,
          "metadata": {},
          "output_type": "execute_result"
        }
      ],
      "source": [
        "df[\"Review Text\"].isnull().sum()"
      ]
    },
    {
      "cell_type": "code",
      "execution_count": null,
      "metadata": {
        "execution": {
          "iopub.execute_input": "2022-10-21T10:21:35.768150Z",
          "iopub.status.busy": "2022-10-21T10:21:35.767858Z",
          "iopub.status.idle": "2022-10-21T10:21:35.775907Z",
          "shell.execute_reply": "2022-10-21T10:21:35.774677Z",
          "shell.execute_reply.started": "2022-10-21T10:21:35.768120Z"
        },
        "id": "4206fe31",
        "outputId": "fb6c63d4-bc1a-4ac5-889e-c8fdc3a1412b"
      },
      "outputs": [
        {
          "data": {
            "text/plain": [
              "0"
            ]
          },
          "execution_count": 11,
          "metadata": {},
          "output_type": "execute_result"
        }
      ],
      "source": [
        "df[\"Recommended IND\"].isnull().sum()"
      ]
    },
    {
      "cell_type": "code",
      "execution_count": null,
      "metadata": {
        "execution": {
          "iopub.execute_input": "2022-10-21T10:21:36.869147Z",
          "iopub.status.busy": "2022-10-21T10:21:36.868637Z",
          "iopub.status.idle": "2022-10-21T10:21:36.897798Z",
          "shell.execute_reply": "2022-10-21T10:21:36.896499Z",
          "shell.execute_reply.started": "2022-10-21T10:21:36.869111Z"
        },
        "id": "6b27da11",
        "outputId": "b99bbb14-32bf-45d3-e562-f80924ac47b9"
      },
      "outputs": [
        {
          "name": "stdout",
          "output_type": "stream",
          "text": [
            "<class 'pandas.core.frame.DataFrame'>\n",
            "Int64Index: 22640 entries, 0 to 23485\n",
            "Data columns (total 10 columns):\n",
            " #   Column                   Non-Null Count  Dtype \n",
            "---  ------                   --------------  ----- \n",
            " 0   Clothing ID              22640 non-null  int64 \n",
            " 1   Age                      22640 non-null  int64 \n",
            " 2   Title                    19675 non-null  object\n",
            " 3   Review Text              22640 non-null  object\n",
            " 4   Rating                   22640 non-null  int64 \n",
            " 5   Recommended IND          22640 non-null  int64 \n",
            " 6   Positive Feedback Count  22640 non-null  int64 \n",
            " 7   Division Name            22627 non-null  object\n",
            " 8   Department Name          22627 non-null  object\n",
            " 9   Class Name               22627 non-null  object\n",
            "dtypes: int64(5), object(5)\n",
            "memory usage: 1.9+ MB\n"
          ]
        }
      ],
      "source": [
        "df.info()"
      ]
    },
    {
      "cell_type": "markdown",
      "metadata": {
        "id": "24a6ea20"
      },
      "source": [
        "# EDA "
      ]
    },
    {
      "cell_type": "code",
      "execution_count": null,
      "metadata": {
        "execution": {
          "iopub.execute_input": "2022-10-21T10:21:38.019624Z",
          "iopub.status.busy": "2022-10-21T10:21:38.019112Z",
          "iopub.status.idle": "2022-10-21T10:21:38.030024Z",
          "shell.execute_reply": "2022-10-21T10:21:38.028481Z",
          "shell.execute_reply.started": "2022-10-21T10:21:38.019573Z"
        },
        "id": "b1c31668",
        "outputId": "d6753792-e236-4ee0-cf90-53ef7410e46e"
      },
      "outputs": [
        {
          "data": {
            "text/plain": [
              "1    18539\n",
              "0     4101\n",
              "Name: Recommended IND, dtype: int64"
            ]
          },
          "execution_count": 13,
          "metadata": {},
          "output_type": "execute_result"
        }
      ],
      "source": [
        "df[\"Recommended IND\"].value_counts()"
      ]
    },
    {
      "cell_type": "code",
      "execution_count": null,
      "metadata": {
        "execution": {
          "iopub.execute_input": "2022-10-21T10:21:39.500137Z",
          "iopub.status.busy": "2022-10-21T10:21:39.499723Z",
          "iopub.status.idle": "2022-10-21T10:21:39.879747Z",
          "shell.execute_reply": "2022-10-21T10:21:39.878756Z",
          "shell.execute_reply.started": "2022-10-21T10:21:39.500075Z"
        },
        "id": "7af6853b",
        "outputId": "8e6e8e9f-5226-4b1e-dca4-52f349dfbdd5"
      },
      "outputs": [
        {
          "data": {
            "image/png": "[encoded data removed]",
            "text/plain": [
              "<Figure size 1080x432 with 2 Axes>"
            ]
          },
          "metadata": {
            "needs_background": "light"
          },
          "output_type": "display_data"
        }
      ],
      "source": [
        "plt.figure(figsize = (15, 6))\n",
        "plt.subplot(1, 2, 1)\n",
        "sns.countplot(x = df['Recommended IND'], data = df)\n",
        "\n",
        "plt.subplot(1, 2, 2)\n",
        "plt.pie(x= df['Recommended IND'].value_counts(), labels = (\"1\",\"0\"), explode = (0, 0.08), shadow = True, autopct = '%1.2f%%')\n",
        "\n",
        "plt.show()"
      ]
    },
    {
      "cell_type": "markdown",
      "metadata": {
        "id": "LdZpSntaR1SU"
      },
      "source": [
        "**Resampling**"
      ]
    },
    {
      "cell_type": "code",
      "execution_count": null,
      "metadata": {
        "execution": {
          "iopub.execute_input": "2022-10-21T10:21:44.749740Z",
          "iopub.status.busy": "2022-10-21T10:21:44.749407Z",
          "iopub.status.idle": "2022-10-21T10:21:44.895195Z",
          "shell.execute_reply": "2022-10-21T10:21:44.894511Z",
          "shell.execute_reply.started": "2022-10-21T10:21:44.749701Z"
        },
        "id": "XA-yVh4I9tV5"
      },
      "outputs": [],
      "source": [
        "from sklearn.utils import resample\n",
        "\n",
        "#create two different dataframe of majority and minority class \n",
        "df_majority = df[(df['Recommended IND']==1)] \n",
        "df_minority = df[(df['Recommended IND']==0)] \n",
        "\n",
        "# upsample minority class\n",
        "df_minority_upsampled = resample(df_minority, \n",
        "                                 replace=True,    # sample with replacement\n",
        "                                 n_samples=15539 , # to match majority class\n",
        "                                 random_state=42)  # reproducible results\n",
        "                                 \n",
        "# Combine majority class with upsampled minority class\n",
        "df_upsampled = pd.concat([df_minority_upsampled, df_majority])"
      ]
    },
    {
      "cell_type": "code",
      "execution_count": null,
      "metadata": {
        "execution": {
          "iopub.execute_input": "2022-10-21T10:21:45.632692Z",
          "iopub.status.busy": "2022-10-21T10:21:45.630571Z",
          "iopub.status.idle": "2022-10-21T10:21:45.641754Z",
          "shell.execute_reply": "2022-10-21T10:21:45.640454Z",
          "shell.execute_reply.started": "2022-10-21T10:21:45.632620Z"
        },
        "id": "C4H8UFso_pgL",
        "outputId": "e97016ed-462c-4134-8a27-d265add32576"
      },
      "outputs": [
        {
          "data": {
            "text/plain": [
              "<bound method IndexOpsMixin.value_counts of 4926     0\n",
              "21598    0\n",
              "17773    0\n",
              "2579     0\n",
              "19705    0\n",
              "        ..\n",
              "23479    1\n",
              "23481    1\n",
              "23482    1\n",
              "23484    1\n",
              "23485    1\n",
              "Name: Recommended IND, Length: 34078, dtype: int64>"
            ]
          },
          "execution_count": 16,
          "metadata": {},
          "output_type": "execute_result"
        }
      ],
      "source": [
        "df_upsampled['Recommended IND'].value_counts"
      ]
    },
    {
      "cell_type": "markdown",
      "metadata": {
        "id": "_JV5izK7SGxM"
      },
      "source": [
        "***After resampling***"
      ]
    },
    {
      "cell_type": "code",
      "execution_count": null,
      "metadata": {
        "execution": {
          "iopub.execute_input": "2022-10-21T10:21:46.964310Z",
          "iopub.status.busy": "2022-10-21T10:21:46.963650Z",
          "iopub.status.idle": "2022-10-21T10:21:47.285312Z",
          "shell.execute_reply": "2022-10-21T10:21:47.284142Z",
          "shell.execute_reply.started": "2022-10-21T10:21:46.964246Z"
        },
        "id": "1qtLjq-v__tL",
        "outputId": "f2c65089-7477-4e67-d3c2-76edf5296e95"
      },
      "outputs": [
        {
          "data": {
            "image/png": "[encoded data removed]",
            "text/plain": [
              "<Figure size 1080x432 with 2 Axes>"
            ]
          },
          "metadata": {
            "needs_background": "light"
          },
          "output_type": "display_data"
        }
      ],
      "source": [
        "plt.figure(figsize = (15, 6))\n",
        "plt.subplot(1, 2, 1)\n",
        "sns.countplot(x = df_upsampled['Recommended IND'], data = df)\n",
        "\n",
        "plt.subplot(1, 2, 2)\n",
        "plt.pie(x= df_upsampled['Recommended IND'].value_counts(), labels = (\"1\",\"0\"), explode = (0, 0.08), shadow = True, autopct = '%1.2f%%')\n",
        "\n",
        "plt.show()"
      ]
    },
    {
      "cell_type": "markdown",
      "metadata": {
        "id": "afc16317"
      },
      "source": [
        "- 0 means \"not recommended product\", while 1 means \"Recommeded product\". \n",
        "- The above graph means that the majority of the store's products are recmmended for purchasing."
      ]
    },
    {
      "cell_type": "code",
      "execution_count": null,
      "metadata": {
        "execution": {
          "iopub.execute_input": "2022-10-21T10:22:03.389840Z",
          "iopub.status.busy": "2022-10-21T10:22:03.389538Z",
          "iopub.status.idle": "2022-10-21T10:22:03.910936Z",
          "shell.execute_reply": "2022-10-21T10:22:03.909699Z",
          "shell.execute_reply.started": "2022-10-21T10:22:03.389807Z"
        },
        "id": "28abdd11",
        "outputId": "55f0bbe8-e34e-43fa-f502-94b19a1675f4"
      },
      "outputs": [
        {
          "name": "stderr",
          "output_type": "stream",
          "text": [
            "/opt/conda/lib/python3.7/site-packages/seaborn/distributions.py:2619: FutureWarning: `distplot` is a deprecated function and will be removed in a future version. Please adapt your code to use either `displot` (a figure-level function with similar flexibility) or `histplot` (an axes-level function for histograms).\n",
            "  warnings.warn(msg, FutureWarning)\n"
          ]
        },
        {
          "data": {
            "text/plain": [
              "Text(0.5, 1.0, 'Age Distribution')"
            ]
          },
          "execution_count": 24,
          "metadata": {},
          "output_type": "execute_result"
        },
        {
          "data": {
            "image/png": "[encoded data removed]",
            "text/plain": [
              "<Figure size 1080x432 with 1 Axes>"
            ]
          },
          "metadata": {
            "needs_background": "light"
          },
          "output_type": "display_data"
        }
      ],
      "source": [
        "plt.figure(figsize = (15, 6))\n",
        "plt.subplot(1, 2, 1)\n",
        "plt.title = ('Age_distribution')\n",
        "sns.distplot(df['Age']).set_title(\"Age Distribution\")"
      ]
    },
    {
      "cell_type": "markdown",
      "metadata": {
        "id": "b0d9a49b"
      },
      "source": [
        "#  Preprocessing"
      ]
    },
    {
      "cell_type": "code",
      "execution_count": null,
      "metadata": {
        "execution": {
          "iopub.execute_input": "2022-10-21T10:22:15.185857Z",
          "iopub.status.busy": "2022-10-21T10:22:15.185341Z",
          "iopub.status.idle": "2022-10-21T10:22:15.193598Z",
          "shell.execute_reply": "2022-10-21T10:22:15.192787Z",
          "shell.execute_reply.started": "2022-10-21T10:22:15.185816Z"
        },
        "id": "6850d214"
      },
      "outputs": [],
      "source": [
        "df.drop([ \"Clothing ID\",\"Age\",\"Title\",\"Rating\",\"Positive Feedback Count\",\"Division Name\",\"Department Name\",\"Class Name\"], axis = 1, inplace = True) #remove unnecessary columns from data\n"
      ]
    },
    {
      "cell_type": "code",
      "execution_count": null,
      "metadata": {
        "execution": {
          "iopub.execute_input": "2022-10-21T10:22:17.236319Z",
          "iopub.status.busy": "2022-10-21T10:22:17.236004Z",
          "iopub.status.idle": "2022-10-21T10:22:17.255523Z",
          "shell.execute_reply": "2022-10-21T10:22:17.254492Z",
          "shell.execute_reply.started": "2022-10-21T10:22:17.236286Z"
        },
        "id": "76247c85",
        "outputId": "5be3863f-2c2f-4b2a-e54f-b4c6283582d6"
      },
      "outputs": [
        {
          "name": "stdout",
          "output_type": "stream",
          "text": [
            "<class 'pandas.core.frame.DataFrame'>\n",
            "Int64Index: 22640 entries, 0 to 23485\n",
            "Data columns (total 2 columns):\n",
            " #   Column           Non-Null Count  Dtype \n",
            "---  ------           --------------  ----- \n",
            " 0   Review Text      22640 non-null  object\n",
            " 1   Recommended IND  22640 non-null  int64 \n",
            "dtypes: int64(1), object(1)\n",
            "memory usage: 1.0+ MB\n"
          ]
        }
      ],
      "source": [
        "df.info()"
      ]
    },
    {
      "cell_type": "code",
      "execution_count": null,
      "metadata": {
        "execution": {
          "iopub.execute_input": "2022-10-21T10:22:17.931895Z",
          "iopub.status.busy": "2022-10-21T10:22:17.931331Z",
          "iopub.status.idle": "2022-10-21T10:22:17.948542Z",
          "shell.execute_reply": "2022-10-21T10:22:17.947370Z",
          "shell.execute_reply.started": "2022-10-21T10:22:17.931848Z"
        },
        "id": "a18ddacc",
        "outputId": "3dba79f1-7eb8-4222-8a9b-1a4ee421d42d"
      },
      "outputs": [
        {
          "data": {
            "text/html": [
              "<div>\n",
              "<style scoped>\n",
              "    .dataframe tbody tr th:only-of-type {\n",
              "        vertical-align: middle;\n",
              "    }\n",
              "\n",
              "    .dataframe tbody tr th {\n",
              "        vertical-align: top;\n",
              "    }\n",
              "\n",
              "    .dataframe thead th {\n",
              "        text-align: right;\n",
              "    }\n",
              "</style>\n",
              "<table border=\"1\" class=\"dataframe\">\n",
              "  <thead>\n",
              "    <tr style=\"text-align: right;\">\n",
              "      <th></th>\n",
              "      <th>Review Text</th>\n",
              "      <th>Recommended IND</th>\n",
              "    </tr>\n",
              "  </thead>\n",
              "  <tbody>\n",
              "    <tr>\n",
              "      <th>0</th>\n",
              "      <td>Absolutely wonderful - silky and sexy and comf...</td>\n",
              "      <td>1</td>\n",
              "    </tr>\n",
              "    <tr>\n",
              "      <th>1</th>\n",
              "      <td>Love this dress!  it's sooo pretty.  i happene...</td>\n",
              "      <td>1</td>\n",
              "    </tr>\n",
              "    <tr>\n",
              "      <th>2</th>\n",
              "      <td>I had such high hopes for this dress and reall...</td>\n",
              "      <td>0</td>\n",
              "    </tr>\n",
              "    <tr>\n",
              "      <th>3</th>\n",
              "      <td>I love, love, love this jumpsuit. it's fun, fl...</td>\n",
              "      <td>1</td>\n",
              "    </tr>\n",
              "    <tr>\n",
              "      <th>4</th>\n",
              "      <td>This shirt is very flattering to all due to th...</td>\n",
              "      <td>1</td>\n",
              "    </tr>\n",
              "  </tbody>\n",
              "</table>\n",
              "</div>"
            ],
            "text/plain": [
              "                                         Review Text  Recommended IND\n",
              "0  Absolutely wonderful - silky and sexy and comf...                1\n",
              "1  Love this dress!  it's sooo pretty.  i happene...                1\n",
              "2  I had such high hopes for this dress and reall...                0\n",
              "3  I love, love, love this jumpsuit. it's fun, fl...                1\n",
              "4  This shirt is very flattering to all due to th...                1"
            ]
          },
          "execution_count": 28,
          "metadata": {},
          "output_type": "execute_result"
        }
      ],
      "source": [
        "df.head()"
      ]
    },
    {
      "cell_type": "code",
      "execution_count": null,
      "metadata": {
        "execution": {
          "iopub.execute_input": "2022-10-21T10:22:21.970913Z",
          "iopub.status.busy": "2022-10-21T10:22:21.970605Z",
          "iopub.status.idle": "2022-10-21T10:22:21.983540Z",
          "shell.execute_reply": "2022-10-21T10:22:21.982543Z",
          "shell.execute_reply.started": "2022-10-21T10:22:21.970880Z"
        },
        "id": "1562566f",
        "outputId": "e23043c2-e7e0-4b7b-e1b1-95cb14104bac"
      },
      "outputs": [
        {
          "data": {
            "text/plain": [
              "False    22640\n",
              "Name: Review Text, dtype: int64"
            ]
          },
          "execution_count": 29,
          "metadata": {},
          "output_type": "execute_result"
        }
      ],
      "source": [
        "df[\"Review Text\"].isnull().value_counts()"
      ]
    },
    {
      "cell_type": "code",
      "execution_count": null,
      "metadata": {
        "execution": {
          "iopub.execute_input": "2022-10-21T10:22:25.253754Z",
          "iopub.status.busy": "2022-10-21T10:22:25.253440Z",
          "iopub.status.idle": "2022-10-21T10:22:25.262550Z",
          "shell.execute_reply": "2022-10-21T10:22:25.261569Z",
          "shell.execute_reply.started": "2022-10-21T10:22:25.253717Z"
        },
        "id": "e0f7ff8f",
        "outputId": "54c2abd1-43ce-47b8-f966-bd675a0dab4e"
      },
      "outputs": [
        {
          "data": {
            "text/plain": [
              "False    22640\n",
              "Name: Recommended IND, dtype: int64"
            ]
          },
          "execution_count": 30,
          "metadata": {},
          "output_type": "execute_result"
        }
      ],
      "source": [
        "df[\"Recommended IND\"].isnull().value_counts()"
      ]
    },
    {
      "cell_type": "markdown",
      "metadata": {
        "id": "85d7af20"
      },
      "source": [
        "# Text Manipulation"
      ]
    },
    {
      "cell_type": "code",
      "execution_count": null,
      "metadata": {
        "execution": {
          "iopub.execute_input": "2022-10-21T10:22:26.495264Z",
          "iopub.status.busy": "2022-10-21T10:22:26.494931Z",
          "iopub.status.idle": "2022-10-21T10:23:07.510729Z",
          "shell.execute_reply": "2022-10-21T10:23:07.509800Z",
          "shell.execute_reply.started": "2022-10-21T10:22:26.495225Z"
        },
        "id": "f13c2042",
        "outputId": "73d832fb-7970-4ea7-c66c-7eca42331752"
      },
      "outputs": [
        {
          "name": "stdout",
          "output_type": "stream",
          "text": [
            "[nltk_data] Error loading stopwords: <urlopen error [Errno -3]\n",
            "[nltk_data]     Temporary failure in name resolution>\n",
            "[nltk_data] Error loading punkt: <urlopen error [Errno -3] Temporary\n",
            "[nltk_data]     failure in name resolution>\n"
          ]
        },
        {
          "data": {
            "text/plain": [
              "False"
            ]
          },
          "execution_count": 31,
          "metadata": {},
          "output_type": "execute_result"
        }
      ],
      "source": [
        "import nltk\n",
        "import re\n",
        "from nltk.tokenize import word_tokenize\n",
        "from nltk.corpus import stopwords\n",
        "from nltk.stem import WordNetLemmatizer\n",
        "nltk.download(\"stopwords\")\n",
        "stop_words=stopwords.words(\"english\")\n",
        "new_stopping_words = stop_words[:len(stop_words)-36]\n",
        "new_stopping_words.remove(\"not\")\n",
        "nltk.download('punkt')"
      ]
    },
    {
      "cell_type": "markdown",
      "metadata": {
        "id": "17139325"
      },
      "source": [
        "-Noise Removal (Punctuation)"
      ]
    },
    {
      "cell_type": "code",
      "execution_count": null,
      "metadata": {
        "execution": {
          "iopub.execute_input": "2022-10-21T10:23:13.382647Z",
          "iopub.status.busy": "2022-10-21T10:23:13.382268Z",
          "iopub.status.idle": "2022-10-21T10:23:13.388282Z",
          "shell.execute_reply": "2022-10-21T10:23:13.387316Z",
          "shell.execute_reply.started": "2022-10-21T10:23:13.382614Z"
        },
        "id": "03aaa2e6"
      },
      "outputs": [],
      "source": [
        "def remove_punc(df):\n",
        "    new_text= re.sub(\"n't\",'not', df)\n",
        "    new_text= re.sub('[^\\w\\s]','', df)\n",
        "    return new_text"
      ]
    },
    {
      "cell_type": "code",
      "execution_count": null,
      "metadata": {
        "execution": {
          "iopub.execute_input": "2022-10-21T10:23:14.161927Z",
          "iopub.status.busy": "2022-10-21T10:23:14.161605Z",
          "iopub.status.idle": "2022-10-21T10:23:14.171566Z",
          "shell.execute_reply": "2022-10-21T10:23:14.170361Z",
          "shell.execute_reply.started": "2022-10-21T10:23:14.161888Z"
        },
        "id": "d1a84947",
        "outputId": "737176bc-5e34-4042-b61d-df9da886cc96"
      },
      "outputs": [
        {
          "data": {
            "text/plain": [
              "'0        Absolutely wonderful  silky and sexy and comf\\n1        Love this dress  its sooo pretty  i happene\\n2        I had such high hopes for this dress and reall\\n3        I love love love this jumpsuit its fun fl\\n4        This shirt is very flattering to all due to th\\n                                                       \\n23481    I was very happy to snag this dress at such a \\n23482    It reminds me of maternity clothes soft stre\\n23483    This fit well but the top was very see throug\\n23484    I bought this dress for a wedding i have this \\n23485    This dress in a lovely platinum is feminine an\\nName Review Text Length 22640 dtype object'"
            ]
          },
          "execution_count": 33,
          "metadata": {},
          "output_type": "execute_result"
        }
      ],
      "source": [
        "processed_text=remove_punc(str(df[\"Review Text\"]))\n",
        "processed_text"
      ]
    },
    {
      "cell_type": "markdown",
      "metadata": {
        "id": "c2e3a22a"
      },
      "source": [
        "# Tokenization"
      ]
    },
    {
      "cell_type": "code",
      "execution_count": null,
      "metadata": {
        "execution": {
          "iopub.execute_input": "2022-10-21T10:23:15.417839Z",
          "iopub.status.busy": "2022-10-21T10:23:15.417542Z",
          "iopub.status.idle": "2022-10-21T10:23:15.423132Z",
          "shell.execute_reply": "2022-10-21T10:23:15.421844Z",
          "shell.execute_reply.started": "2022-10-21T10:23:15.417809Z"
        },
        "id": "fc493ff3"
      },
      "outputs": [],
      "source": [
        "def tokenizze(df):\n",
        "    newdata= word_tokenize(df)\n",
        "    return newdata"
      ]
    },
    {
      "cell_type": "code",
      "execution_count": null,
      "metadata": {
        "execution": {
          "iopub.execute_input": "2022-10-21T10:23:15.915836Z",
          "iopub.status.busy": "2022-10-21T10:23:15.915522Z",
          "iopub.status.idle": "2022-10-21T10:23:15.938455Z",
          "shell.execute_reply": "2022-10-21T10:23:15.937417Z",
          "shell.execute_reply.started": "2022-10-21T10:23:15.915805Z"
        },
        "id": "dbe776c1",
        "outputId": "deb5ef10-0137-4612-ed80-c5b2352840b7"
      },
      "outputs": [
        {
          "data": {
            "text/plain": [
              "['0',\n",
              " 'absolutely',\n",
              " 'wonderful',\n",
              " 'silky',\n",
              " 'and',\n",
              " 'sexy',\n",
              " 'and',\n",
              " 'comf',\n",
              " '1',\n",
              " 'love',\n",
              " 'this',\n",
              " 'dress',\n",
              " 'its',\n",
              " 'sooo',\n",
              " 'pretty',\n",
              " 'i',\n",
              " 'happene',\n",
              " '2',\n",
              " 'i',\n",
              " 'had',\n",
              " 'such',\n",
              " 'high',\n",
              " 'hopes',\n",
              " 'for',\n",
              " 'this',\n",
              " 'dress',\n",
              " 'and',\n",
              " 'reall',\n",
              " '3',\n",
              " 'i',\n",
              " 'love',\n",
              " 'love',\n",
              " 'love',\n",
              " 'this',\n",
              " 'jumpsuit',\n",
              " 'its',\n",
              " 'fun',\n",
              " 'fl',\n",
              " '4',\n",
              " 'this',\n",
              " 'shirt',\n",
              " 'is',\n",
              " 'very',\n",
              " 'flattering',\n",
              " 'to',\n",
              " 'all',\n",
              " 'due',\n",
              " 'to',\n",
              " 'th',\n",
              " '23481',\n",
              " 'i',\n",
              " 'was',\n",
              " 'very',\n",
              " 'happy',\n",
              " 'to',\n",
              " 'snag',\n",
              " 'this',\n",
              " 'dress',\n",
              " 'at',\n",
              " 'such',\n",
              " 'a',\n",
              " '23482',\n",
              " 'it',\n",
              " 'reminds',\n",
              " 'me',\n",
              " 'of',\n",
              " 'maternity',\n",
              " 'clothes',\n",
              " 'soft',\n",
              " 'stre',\n",
              " '23483',\n",
              " 'this',\n",
              " 'fit',\n",
              " 'well',\n",
              " 'but',\n",
              " 'the',\n",
              " 'top',\n",
              " 'was',\n",
              " 'very',\n",
              " 'see',\n",
              " 'throug',\n",
              " '23484',\n",
              " 'i',\n",
              " 'bought',\n",
              " 'this',\n",
              " 'dress',\n",
              " 'for',\n",
              " 'a',\n",
              " 'wedding',\n",
              " 'i',\n",
              " 'have',\n",
              " 'this',\n",
              " '23485',\n",
              " 'this',\n",
              " 'dress',\n",
              " 'in',\n",
              " 'a',\n",
              " 'lovely',\n",
              " 'platinum',\n",
              " 'is',\n",
              " 'feminine',\n",
              " 'an',\n",
              " 'name',\n",
              " 'review',\n",
              " 'text',\n",
              " 'length',\n",
              " '22640',\n",
              " 'dtype',\n",
              " 'object']"
            ]
          },
          "execution_count": 35,
          "metadata": {},
          "output_type": "execute_result"
        }
      ],
      "source": [
        "tokenized_data=tokenizze(processed_text.lower())\n",
        "tokenized_data"
      ]
    },
    {
      "cell_type": "markdown",
      "metadata": {
        "id": "80d8ed78"
      },
      "source": [
        "# Removing Numbers"
      ]
    },
    {
      "cell_type": "code",
      "execution_count": null,
      "metadata": {
        "execution": {
          "iopub.execute_input": "2022-10-21T10:23:20.676221Z",
          "iopub.status.busy": "2022-10-21T10:23:20.675528Z",
          "iopub.status.idle": "2022-10-21T10:23:20.681815Z",
          "shell.execute_reply": "2022-10-21T10:23:20.680957Z",
          "shell.execute_reply.started": "2022-10-21T10:23:20.676176Z"
        },
        "id": "a0a3cd73"
      },
      "outputs": [],
      "source": [
        "def remove_num(df):\n",
        "    text_without_num=[w for w in df if w.isalpha()]\n",
        "    return text_without_num"
      ]
    },
    {
      "cell_type": "code",
      "execution_count": null,
      "metadata": {
        "execution": {
          "iopub.execute_input": "2022-10-21T10:23:20.981951Z",
          "iopub.status.busy": "2022-10-21T10:23:20.981612Z",
          "iopub.status.idle": "2022-10-21T10:23:20.991080Z",
          "shell.execute_reply": "2022-10-21T10:23:20.989942Z",
          "shell.execute_reply.started": "2022-10-21T10:23:20.981914Z"
        },
        "id": "3e348e90",
        "outputId": "c005abe9-cc5c-42b2-d25e-1346f85a2f6e"
      },
      "outputs": [
        {
          "data": {
            "text/plain": [
              "['absolutely',\n",
              " 'wonderful',\n",
              " 'silky',\n",
              " 'and',\n",
              " 'sexy',\n",
              " 'and',\n",
              " 'comf',\n",
              " 'love',\n",
              " 'this',\n",
              " 'dress',\n",
              " 'its',\n",
              " 'sooo',\n",
              " 'pretty',\n",
              " 'i',\n",
              " 'happene',\n",
              " 'i',\n",
              " 'had',\n",
              " 'such',\n",
              " 'high',\n",
              " 'hopes',\n",
              " 'for',\n",
              " 'this',\n",
              " 'dress',\n",
              " 'and',\n",
              " 'reall',\n",
              " 'i',\n",
              " 'love',\n",
              " 'love',\n",
              " 'love',\n",
              " 'this',\n",
              " 'jumpsuit',\n",
              " 'its',\n",
              " 'fun',\n",
              " 'fl',\n",
              " 'this',\n",
              " 'shirt',\n",
              " 'is',\n",
              " 'very',\n",
              " 'flattering',\n",
              " 'to',\n",
              " 'all',\n",
              " 'due',\n",
              " 'to',\n",
              " 'th',\n",
              " 'i',\n",
              " 'was',\n",
              " 'very',\n",
              " 'happy',\n",
              " 'to',\n",
              " 'snag',\n",
              " 'this',\n",
              " 'dress',\n",
              " 'at',\n",
              " 'such',\n",
              " 'a',\n",
              " 'it',\n",
              " 'reminds',\n",
              " 'me',\n",
              " 'of',\n",
              " 'maternity',\n",
              " 'clothes',\n",
              " 'soft',\n",
              " 'stre',\n",
              " 'this',\n",
              " 'fit',\n",
              " 'well',\n",
              " 'but',\n",
              " 'the',\n",
              " 'top',\n",
              " 'was',\n",
              " 'very',\n",
              " 'see',\n",
              " 'throug',\n",
              " 'i',\n",
              " 'bought',\n",
              " 'this',\n",
              " 'dress',\n",
              " 'for',\n",
              " 'a',\n",
              " 'wedding',\n",
              " 'i',\n",
              " 'have',\n",
              " 'this',\n",
              " 'this',\n",
              " 'dress',\n",
              " 'in',\n",
              " 'a',\n",
              " 'lovely',\n",
              " 'platinum',\n",
              " 'is',\n",
              " 'feminine',\n",
              " 'an',\n",
              " 'name',\n",
              " 'review',\n",
              " 'text',\n",
              " 'length',\n",
              " 'dtype',\n",
              " 'object']"
            ]
          },
          "execution_count": 37,
          "metadata": {},
          "output_type": "execute_result"
        }
      ],
      "source": [
        "textwithoutnum= remove_num(tokenized_data)\n",
        "textwithoutnum"
      ]
    },
    {
      "cell_type": "markdown",
      "metadata": {
        "id": "1d50f505"
      },
      "source": [
        "Cleaning Data"
      ]
    },
    {
      "cell_type": "code",
      "execution_count": null,
      "metadata": {
        "execution": {
          "iopub.execute_input": "2022-10-21T10:23:47.737729Z",
          "iopub.status.busy": "2022-10-21T10:23:47.737441Z",
          "iopub.status.idle": "2022-10-21T10:23:47.748067Z",
          "shell.execute_reply": "2022-10-21T10:23:47.746947Z",
          "shell.execute_reply.started": "2022-10-21T10:23:47.737699Z"
        },
        "id": "82327348",
        "outputId": "4c00fb71-3b03-4c16-8198-b072b3c466f3"
      },
      "outputs": [
        {
          "data": {
            "text/plain": [
              "'absolutely wonderful silky sexy comf love dress sooo pretty happene high hope dress reall love love love jumpsuit fun fl shirt flattering due th happy snag dress reminds maternity clothes soft stre fit well top see throug bought dress wedding dress lovely platinum feminine name review text length dtype object'"
            ]
          },
          "execution_count": 45,
          "metadata": {},
          "output_type": "execute_result"
        }
      ],
      "source": [
        "text = Cleaning_process(str(df[\"Review Text\"]))\n",
        "text"
      ]
    },
    {
      "cell_type": "code",
      "execution_count": null,
      "metadata": {
        "execution": {
          "iopub.execute_input": "2022-10-21T10:23:48.823666Z",
          "iopub.status.busy": "2022-10-21T10:23:48.823315Z",
          "iopub.status.idle": "2022-10-21T10:24:01.919816Z",
          "shell.execute_reply": "2022-10-21T10:24:01.918826Z",
          "shell.execute_reply.started": "2022-10-21T10:23:48.823632Z"
        },
        "id": "7f4f9534"
      },
      "outputs": [],
      "source": [
        "df[\"Review Text\"]= df[\"Review Text\"].apply(Cleaning_process)"
      ]
    },
    {
      "cell_type": "code",
      "execution_count": null,
      "metadata": {
        "execution": {
          "iopub.execute_input": "2022-10-21T10:24:01.921773Z",
          "iopub.status.busy": "2022-10-21T10:24:01.921502Z",
          "iopub.status.idle": "2022-10-21T10:24:01.930584Z",
          "shell.execute_reply": "2022-10-21T10:24:01.929382Z",
          "shell.execute_reply.started": "2022-10-21T10:24:01.921741Z"
        },
        "id": "e7db75c6",
        "outputId": "7b716e8e-e2cd-4317-a0a1-4be40861172a"
      },
      "outputs": [
        {
          "data": {
            "text/plain": [
              "0          absolutely wonderful silky sexy comfortable\n",
              "1    love dress sooo pretty happened find store im ...\n",
              "2    high hope dress really wanted work initially o...\n",
              "3    love love love jumpsuit fun flirty fabulous ev...\n",
              "4    shirt flattering due adjustable front tie perf...\n",
              "Name: Review Text, dtype: object"
            ]
          },
          "execution_count": 47,
          "metadata": {},
          "output_type": "execute_result"
        }
      ],
      "source": [
        "\n",
        "df[\"Review Text\"].head()"
      ]
    },
    {
      "cell_type": "code",
      "execution_count": null,
      "metadata": {
        "execution": {
          "iopub.execute_input": "2022-10-21T10:24:01.932628Z",
          "iopub.status.busy": "2022-10-21T10:24:01.932291Z",
          "iopub.status.idle": "2022-10-21T10:24:01.948775Z",
          "shell.execute_reply": "2022-10-21T10:24:01.947390Z",
          "shell.execute_reply.started": "2022-10-21T10:24:01.932590Z"
        },
        "id": "a94990a7",
        "outputId": "ba5a015f-3ed5-465e-a2dc-2d4c14907674"
      },
      "outputs": [
        {
          "data": {
            "text/html": [
              "<div>\n",
              "<style scoped>\n",
              "    .dataframe tbody tr th:only-of-type {\n",
              "        vertical-align: middle;\n",
              "    }\n",
              "\n",
              "    .dataframe tbody tr th {\n",
              "        vertical-align: top;\n",
              "    }\n",
              "\n",
              "    .dataframe thead th {\n",
              "        text-align: right;\n",
              "    }\n",
              "</style>\n",
              "<table border=\"1\" class=\"dataframe\">\n",
              "  <thead>\n",
              "    <tr style=\"text-align: right;\">\n",
              "      <th></th>\n",
              "      <th>Review Text</th>\n",
              "      <th>Recommended IND</th>\n",
              "    </tr>\n",
              "  </thead>\n",
              "  <tbody>\n",
              "    <tr>\n",
              "      <th>0</th>\n",
              "      <td>absolutely wonderful silky sexy comfortable</td>\n",
              "      <td>1</td>\n",
              "    </tr>\n",
              "    <tr>\n",
              "      <th>1</th>\n",
              "      <td>love dress sooo pretty happened find store im ...</td>\n",
              "      <td>1</td>\n",
              "    </tr>\n",
              "    <tr>\n",
              "      <th>2</th>\n",
              "      <td>high hope dress really wanted work initially o...</td>\n",
              "      <td>0</td>\n",
              "    </tr>\n",
              "    <tr>\n",
              "      <th>3</th>\n",
              "      <td>love love love jumpsuit fun flirty fabulous ev...</td>\n",
              "      <td>1</td>\n",
              "    </tr>\n",
              "    <tr>\n",
              "      <th>4</th>\n",
              "      <td>shirt flattering due adjustable front tie perf...</td>\n",
              "      <td>1</td>\n",
              "    </tr>\n",
              "  </tbody>\n",
              "</table>\n",
              "</div>"
            ],
            "text/plain": [
              "                                         Review Text  Recommended IND\n",
              "0        absolutely wonderful silky sexy comfortable                1\n",
              "1  love dress sooo pretty happened find store im ...                1\n",
              "2  high hope dress really wanted work initially o...                0\n",
              "3  love love love jumpsuit fun flirty fabulous ev...                1\n",
              "4  shirt flattering due adjustable front tie perf...                1"
            ]
          },
          "execution_count": 48,
          "metadata": {},
          "output_type": "execute_result"
        }
      ],
      "source": [
        "df.head()"
      ]
    },
    {
      "cell_type": "markdown",
      "metadata": {
        "id": "cyh09mwJovni"
      },
      "source": [
        "# ML  "
      ]
    },
    {
      "cell_type": "markdown",
      "metadata": {
        "id": "2wYAohdR9p3X"
      },
      "source": [
        "Splitting data"
      ]
    },
    {
      "cell_type": "code",
      "execution_count": null,
      "metadata": {
        "execution": {
          "iopub.execute_input": "2022-10-21T10:24:11.597886Z",
          "iopub.status.busy": "2022-10-21T10:24:11.597601Z",
          "iopub.status.idle": "2022-10-21T10:24:11.602695Z",
          "shell.execute_reply": "2022-10-21T10:24:11.601568Z",
          "shell.execute_reply.started": "2022-10-21T10:24:11.597855Z"
        },
        "id": "df36d592"
      },
      "outputs": [],
      "source": [
        "#importing \n",
        "from sklearn.model_selection import train_test_split\n",
        "#from sklearn.feature_extraction.text import CountVectorizer\n",
        "from sklearn.feature_extraction.text import TfidfVectorizer #TF-IDF are word frequency scores that try to highlight words that are more interesting,"
      ]
    },
    {
      "cell_type": "code",
      "execution_count": null,
      "metadata": {
        "execution": {
          "iopub.execute_input": "2022-10-21T10:24:39.285101Z",
          "iopub.status.busy": "2022-10-21T10:24:39.284805Z",
          "iopub.status.idle": "2022-10-21T10:24:39.305681Z",
          "shell.execute_reply": "2022-10-21T10:24:39.304605Z",
          "shell.execute_reply.started": "2022-10-21T10:24:39.285070Z"
        },
        "id": "HSSJ5tE4Xbb4",
        "outputId": "3e0b600f-c9df-4538-bdbd-31f673b84a94"
      },
      "outputs": [
        {
          "data": {
            "text/html": [
              "<div>\n",
              "<style scoped>\n",
              "    .dataframe tbody tr th:only-of-type {\n",
              "        vertical-align: middle;\n",
              "    }\n",
              "\n",
              "    .dataframe tbody tr th {\n",
              "        vertical-align: top;\n",
              "    }\n",
              "\n",
              "    .dataframe thead th {\n",
              "        text-align: right;\n",
              "    }\n",
              "</style>\n",
              "<table border=\"1\" class=\"dataframe\">\n",
              "  <thead>\n",
              "    <tr style=\"text-align: right;\">\n",
              "      <th></th>\n",
              "      <th>Clothing ID</th>\n",
              "      <th>Age</th>\n",
              "      <th>Title</th>\n",
              "      <th>Review Text</th>\n",
              "      <th>Rating</th>\n",
              "      <th>Recommended IND</th>\n",
              "      <th>Positive Feedback Count</th>\n",
              "      <th>Division Name</th>\n",
              "      <th>Department Name</th>\n",
              "      <th>Class Name</th>\n",
              "    </tr>\n",
              "  </thead>\n",
              "  <tbody>\n",
              "    <tr>\n",
              "      <th>4926</th>\n",
              "      <td>1099</td>\n",
              "      <td>35</td>\n",
              "      <td>NaN</td>\n",
              "      <td>I am on the fence about this dress. the fabric...</td>\n",
              "      <td>3</td>\n",
              "      <td>0</td>\n",
              "      <td>26</td>\n",
              "      <td>General</td>\n",
              "      <td>Dresses</td>\n",
              "      <td>Dresses</td>\n",
              "    </tr>\n",
              "    <tr>\n",
              "      <th>21598</th>\n",
              "      <td>1086</td>\n",
              "      <td>33</td>\n",
              "      <td>Not great for those with a little extra...</td>\n",
              "      <td>I love everything by cloth &amp; stone so was exci...</td>\n",
              "      <td>2</td>\n",
              "      <td>0</td>\n",
              "      <td>8</td>\n",
              "      <td>General</td>\n",
              "      <td>Dresses</td>\n",
              "      <td>Dresses</td>\n",
              "    </tr>\n",
              "    <tr>\n",
              "      <th>17773</th>\n",
              "      <td>819</td>\n",
              "      <td>67</td>\n",
              "      <td>NaN</td>\n",
              "      <td>Loved the fit and colors, but the fabric is ve...</td>\n",
              "      <td>2</td>\n",
              "      <td>0</td>\n",
              "      <td>18</td>\n",
              "      <td>General</td>\n",
              "      <td>Tops</td>\n",
              "      <td>Blouses</td>\n",
              "    </tr>\n",
              "    <tr>\n",
              "      <th>2579</th>\n",
              "      <td>18</td>\n",
              "      <td>42</td>\n",
              "      <td>Disappointing quality</td>\n",
              "      <td>I ordered these leggings and loved them, for a...</td>\n",
              "      <td>1</td>\n",
              "      <td>0</td>\n",
              "      <td>0</td>\n",
              "      <td>General Petite</td>\n",
              "      <td>Bottoms</td>\n",
              "      <td>Jeans</td>\n",
              "    </tr>\n",
              "    <tr>\n",
              "      <th>19705</th>\n",
              "      <td>999</td>\n",
              "      <td>48</td>\n",
              "      <td>Ugh</td>\n",
              "      <td>Not sure who this is for but its not for me. s...</td>\n",
              "      <td>1</td>\n",
              "      <td>0</td>\n",
              "      <td>0</td>\n",
              "      <td>General Petite</td>\n",
              "      <td>Bottoms</td>\n",
              "      <td>Skirts</td>\n",
              "    </tr>\n",
              "    <tr>\n",
              "      <th>...</th>\n",
              "      <td>...</td>\n",
              "      <td>...</td>\n",
              "      <td>...</td>\n",
              "      <td>...</td>\n",
              "      <td>...</td>\n",
              "      <td>...</td>\n",
              "      <td>...</td>\n",
              "      <td>...</td>\n",
              "      <td>...</td>\n",
              "      <td>...</td>\n",
              "    </tr>\n",
              "    <tr>\n",
              "      <th>23479</th>\n",
              "      <td>1005</td>\n",
              "      <td>42</td>\n",
              "      <td>What a fun piece!</td>\n",
              "      <td>So i wasn't sure about ordering this skirt bec...</td>\n",
              "      <td>5</td>\n",
              "      <td>1</td>\n",
              "      <td>0</td>\n",
              "      <td>General Petite</td>\n",
              "      <td>Bottoms</td>\n",
              "      <td>Skirts</td>\n",
              "    </tr>\n",
              "    <tr>\n",
              "      <th>23481</th>\n",
              "      <td>1104</td>\n",
              "      <td>34</td>\n",
              "      <td>Great dress for many occasions</td>\n",
              "      <td>I was very happy to snag this dress at such a ...</td>\n",
              "      <td>5</td>\n",
              "      <td>1</td>\n",
              "      <td>0</td>\n",
              "      <td>General Petite</td>\n",
              "      <td>Dresses</td>\n",
              "      <td>Dresses</td>\n",
              "    </tr>\n",
              "    <tr>\n",
              "      <th>23482</th>\n",
              "      <td>862</td>\n",
              "      <td>48</td>\n",
              "      <td>Wish it was made of cotton</td>\n",
              "      <td>It reminds me of maternity clothes. soft, stre...</td>\n",
              "      <td>3</td>\n",
              "      <td>1</td>\n",
              "      <td>0</td>\n",
              "      <td>General Petite</td>\n",
              "      <td>Tops</td>\n",
              "      <td>Knits</td>\n",
              "    </tr>\n",
              "    <tr>\n",
              "      <th>23484</th>\n",
              "      <td>1084</td>\n",
              "      <td>28</td>\n",
              "      <td>Very cute dress, perfect for summer parties an...</td>\n",
              "      <td>I bought this dress for a wedding i have this ...</td>\n",
              "      <td>3</td>\n",
              "      <td>1</td>\n",
              "      <td>2</td>\n",
              "      <td>General</td>\n",
              "      <td>Dresses</td>\n",
              "      <td>Dresses</td>\n",
              "    </tr>\n",
              "    <tr>\n",
              "      <th>23485</th>\n",
              "      <td>1104</td>\n",
              "      <td>52</td>\n",
              "      <td>Please make more like this one!</td>\n",
              "      <td>This dress in a lovely platinum is feminine an...</td>\n",
              "      <td>5</td>\n",
              "      <td>1</td>\n",
              "      <td>22</td>\n",
              "      <td>General Petite</td>\n",
              "      <td>Dresses</td>\n",
              "      <td>Dresses</td>\n",
              "    </tr>\n",
              "  </tbody>\n",
              "</table>\n",
              "<p>34078 rows × 10 columns</p>\n",
              "</div>"
            ],
            "text/plain": [
              "       Clothing ID  Age                                              Title  \\\n",
              "4926          1099   35                                                NaN   \n",
              "21598         1086   33         Not great for those with a little extra...   \n",
              "17773          819   67                                                NaN   \n",
              "2579            18   42                              Disappointing quality   \n",
              "19705          999   48                                                Ugh   \n",
              "...            ...  ...                                                ...   \n",
              "23479         1005   42                                  What a fun piece!   \n",
              "23481         1104   34                     Great dress for many occasions   \n",
              "23482          862   48                         Wish it was made of cotton   \n",
              "23484         1084   28  Very cute dress, perfect for summer parties an...   \n",
              "23485         1104   52                    Please make more like this one!   \n",
              "\n",
              "                                             Review Text  Rating  \\\n",
              "4926   I am on the fence about this dress. the fabric...       3   \n",
              "21598  I love everything by cloth & stone so was exci...       2   \n",
              "17773  Loved the fit and colors, but the fabric is ve...       2   \n",
              "2579   I ordered these leggings and loved them, for a...       1   \n",
              "19705  Not sure who this is for but its not for me. s...       1   \n",
              "...                                                  ...     ...   \n",
              "23479  So i wasn't sure about ordering this skirt bec...       5   \n",
              "23481  I was very happy to snag this dress at such a ...       5   \n",
              "23482  It reminds me of maternity clothes. soft, stre...       3   \n",
              "23484  I bought this dress for a wedding i have this ...       3   \n",
              "23485  This dress in a lovely platinum is feminine an...       5   \n",
              "\n",
              "       Recommended IND  Positive Feedback Count   Division Name  \\\n",
              "4926                 0                       26         General   \n",
              "21598                0                        8         General   \n",
              "17773                0                       18         General   \n",
              "2579                 0                        0  General Petite   \n",
              "19705                0                        0  General Petite   \n",
              "...                ...                      ...             ...   \n",
              "23479                1                        0  General Petite   \n",
              "23481                1                        0  General Petite   \n",
              "23482                1                        0  General Petite   \n",
              "23484                1                        2         General   \n",
              "23485                1                       22  General Petite   \n",
              "\n",
              "      Department Name Class Name  \n",
              "4926          Dresses    Dresses  \n",
              "21598         Dresses    Dresses  \n",
              "17773            Tops    Blouses  \n",
              "2579          Bottoms      Jeans  \n",
              "19705         Bottoms     Skirts  \n",
              "...               ...        ...  \n",
              "23479         Bottoms     Skirts  \n",
              "23481         Dresses    Dresses  \n",
              "23482            Tops      Knits  \n",
              "23484         Dresses    Dresses  \n",
              "23485         Dresses    Dresses  \n",
              "\n",
              "[34078 rows x 10 columns]"
            ]
          },
          "execution_count": 54,
          "metadata": {},
          "output_type": "execute_result"
        }
      ],
      "source": [
        "df_upsampled"
      ]
    },
    {
      "cell_type": "code",
      "execution_count": null,
      "metadata": {
        "execution": {
          "iopub.execute_input": "2022-10-21T10:30:13.171340Z",
          "iopub.status.busy": "2022-10-21T10:30:13.170957Z",
          "iopub.status.idle": "2022-10-21T10:30:13.176725Z",
          "shell.execute_reply": "2022-10-21T10:30:13.175412Z",
          "shell.execute_reply.started": "2022-10-21T10:30:13.171306Z"
        },
        "id": "2c261917"
      },
      "outputs": [],
      "source": [
        "X = df_upsampled[\"Review Text\"]\n",
        "y= df_upsampled[\"Recommended IND\"]"
      ]
    },
    {
      "cell_type": "code",
      "execution_count": null,
      "metadata": {
        "id": "_Di68AoTXbb4"
      },
      "outputs": [],
      "source": [
        "#X_train, X_test, y_train, y_test = train_test_split(X, y, test_size=0.3, stratify=y, random_state=101)"
      ]
    },
    {
      "cell_type": "code",
      "execution_count": null,
      "metadata": {
        "execution": {
          "iopub.execute_input": "2022-10-21T10:30:14.200780Z",
          "iopub.status.busy": "2022-10-21T10:30:14.200464Z",
          "iopub.status.idle": "2022-10-21T10:30:14.226747Z",
          "shell.execute_reply": "2022-10-21T10:30:14.225870Z",
          "shell.execute_reply.started": "2022-10-21T10:30:14.200745Z"
        },
        "id": "00ac1dba"
      },
      "outputs": [],
      "source": [
        "X_train, X_test, y_train, y_test = train_test_split(X, y, test_size=0.2, stratify=y, random_state=101)"
      ]
    },
    {
      "cell_type": "code",
      "execution_count": null,
      "metadata": {
        "execution": {
          "iopub.execute_input": "2022-10-21T10:24:15.193895Z",
          "iopub.status.busy": "2022-10-21T10:24:15.193295Z",
          "iopub.status.idle": "2022-10-21T10:24:15.201289Z",
          "shell.execute_reply": "2022-10-21T10:24:15.200085Z",
          "shell.execute_reply.started": "2022-10-21T10:24:15.193846Z"
        },
        "id": "gF5jIjVHnP_a",
        "outputId": "17d5199b-b0cf-43ae-e35a-7e654caa6bd3"
      },
      "outputs": [
        {
          "data": {
            "text/plain": [
              "((27262,), (6816,))"
            ]
          },
          "execution_count": 53,
          "metadata": {},
          "output_type": "execute_result"
        }
      ],
      "source": [
        "X_train.shape , X_test.shape"
      ]
    },
    {
      "cell_type": "code",
      "execution_count": null,
      "metadata": {
        "execution": {
          "iopub.execute_input": "2022-10-21T10:30:19.756043Z",
          "iopub.status.busy": "2022-10-21T10:30:19.755340Z",
          "iopub.status.idle": "2022-10-21T10:30:21.499184Z",
          "shell.execute_reply": "2022-10-21T10:30:21.498018Z",
          "shell.execute_reply.started": "2022-10-21T10:30:19.756003Z"
        },
        "id": "HRSbDmF5CV58"
      },
      "outputs": [],
      "source": [
        "tf_idf_vectorizer = TfidfVectorizer()\n",
        "\n",
        "X_train_tf_idf = tf_idf_vectorizer.fit_transform(X_train)\n",
        "X_test_tf_idf = tf_idf_vectorizer.transform(X_test)"
      ]
    },
    {
      "cell_type": "code",
      "execution_count": null,
      "metadata": {
        "execution": {
          "iopub.execute_input": "2022-10-21T10:30:23.411843Z",
          "iopub.status.busy": "2022-10-21T10:30:23.410556Z",
          "iopub.status.idle": "2022-10-21T10:30:24.216065Z",
          "shell.execute_reply": "2022-10-21T10:30:24.214906Z",
          "shell.execute_reply.started": "2022-10-21T10:30:23.411778Z"
        },
        "id": "YL2c-vQXmbpN",
        "outputId": "07792993-92e9-47bb-dbb4-0c8b2d4874e3"
      },
      "outputs": [
        {
          "data": {
            "text/plain": [
              "(6816, 13061)"
            ]
          },
          "execution_count": 58,
          "metadata": {},
          "output_type": "execute_result"
        }
      ],
      "source": [
        "X_test_tf_idf.toarray().shape"
      ]
    },
    {
      "cell_type": "code",
      "execution_count": null,
      "metadata": {
        "execution": {
          "iopub.execute_input": "2022-10-21T10:30:24.898737Z",
          "iopub.status.busy": "2022-10-21T10:30:24.898440Z",
          "iopub.status.idle": "2022-10-21T10:30:29.657342Z",
          "shell.execute_reply": "2022-10-21T10:30:29.656145Z",
          "shell.execute_reply.started": "2022-10-21T10:30:24.898706Z"
        },
        "id": "Wu1OyyaAmVXc",
        "outputId": "600e5f65-83d8-4492-e900-217cd4dbb6cf"
      },
      "outputs": [
        {
          "data": {
            "text/plain": [
              "(27262, 13061)"
            ]
          },
          "execution_count": 59,
          "metadata": {},
          "output_type": "execute_result"
        }
      ],
      "source": [
        "X_train_tf_idf.toarray().shape"
      ]
    },
    {
      "cell_type": "code",
      "execution_count": null,
      "metadata": {
        "execution": {
          "iopub.execute_input": "2022-10-21T10:30:29.659425Z",
          "iopub.status.busy": "2022-10-21T10:30:29.659067Z",
          "iopub.status.idle": "2022-10-21T10:30:32.546668Z",
          "shell.execute_reply": "2022-10-21T10:30:32.545524Z",
          "shell.execute_reply.started": "2022-10-21T10:30:29.659365Z"
        },
        "id": "EPN2wNlKC-mf",
        "outputId": "f11c9035-0057-46ac-d3f3-4a4683b2e46f"
      },
      "outputs": [
        {
          "data": {
            "text/plain": [
              "array([[0., 0., 0., ..., 0., 0., 0.],\n",
              "       [0., 0., 0., ..., 0., 0., 0.],\n",
              "       [0., 0., 0., ..., 0., 0., 0.],\n",
              "       ...,\n",
              "       [0., 0., 0., ..., 0., 0., 0.],\n",
              "       [0., 0., 0., ..., 0., 0., 0.],\n",
              "       [0., 0., 0., ..., 0., 0., 0.]])"
            ]
          },
          "execution_count": 60,
          "metadata": {},
          "output_type": "execute_result"
        }
      ],
      "source": [
        "X_train_tf_idf.toarray()"
      ]
    },
    {
      "cell_type": "code",
      "execution_count": null,
      "metadata": {
        "execution": {
          "iopub.execute_input": "2022-10-21T10:30:32.549594Z",
          "iopub.status.busy": "2022-10-21T10:30:32.549065Z",
          "iopub.status.idle": "2022-10-21T10:30:35.751547Z",
          "shell.execute_reply": "2022-10-21T10:30:35.750174Z",
          "shell.execute_reply.started": "2022-10-21T10:30:32.549547Z"
        },
        "id": "nVt-9MyCDHKM",
        "outputId": "5c197cad-2974-4490-e72d-2398b8823868"
      },
      "outputs": [
        {
          "data": {
            "text/html": [
              "<div>\n",
              "<style scoped>\n",
              "    .dataframe tbody tr th:only-of-type {\n",
              "        vertical-align: middle;\n",
              "    }\n",
              "\n",
              "    .dataframe tbody tr th {\n",
              "        vertical-align: top;\n",
              "    }\n",
              "\n",
              "    .dataframe thead th {\n",
              "        text-align: right;\n",
              "    }\n",
              "</style>\n",
              "<table border=\"1\" class=\"dataframe\">\n",
              "  <thead>\n",
              "    <tr style=\"text-align: right;\">\n",
              "      <th></th>\n",
              "      <th>00</th>\n",
              "      <th>000</th>\n",
              "      <th>00p</th>\n",
              "      <th>02</th>\n",
              "      <th>03</th>\n",
              "      <th>03dd</th>\n",
              "      <th>04</th>\n",
              "      <th>06</th>\n",
              "      <th>0dd</th>\n",
              "      <th>0p</th>\n",
              "      <th>...</th>\n",
              "      <th>zippie</th>\n",
              "      <th>zipping</th>\n",
              "      <th>zips</th>\n",
              "      <th>zombie</th>\n",
              "      <th>zone</th>\n",
              "      <th>zoolander</th>\n",
              "      <th>zoom</th>\n",
              "      <th>zooming</th>\n",
              "      <th>zuma</th>\n",
              "      <th>ã¼ber</th>\n",
              "    </tr>\n",
              "  </thead>\n",
              "  <tbody>\n",
              "    <tr>\n",
              "      <th>0</th>\n",
              "      <td>0.0</td>\n",
              "      <td>0.0</td>\n",
              "      <td>0.000000</td>\n",
              "      <td>0.0</td>\n",
              "      <td>0.0</td>\n",
              "      <td>0.0</td>\n",
              "      <td>0.0</td>\n",
              "      <td>0.0</td>\n",
              "      <td>0.0</td>\n",
              "      <td>0.000000</td>\n",
              "      <td>...</td>\n",
              "      <td>0.0</td>\n",
              "      <td>0.0</td>\n",
              "      <td>0.0</td>\n",
              "      <td>0.0</td>\n",
              "      <td>0.0</td>\n",
              "      <td>0.0</td>\n",
              "      <td>0.0</td>\n",
              "      <td>0.0</td>\n",
              "      <td>0.0</td>\n",
              "      <td>0.0</td>\n",
              "    </tr>\n",
              "    <tr>\n",
              "      <th>1</th>\n",
              "      <td>0.0</td>\n",
              "      <td>0.0</td>\n",
              "      <td>0.000000</td>\n",
              "      <td>0.0</td>\n",
              "      <td>0.0</td>\n",
              "      <td>0.0</td>\n",
              "      <td>0.0</td>\n",
              "      <td>0.0</td>\n",
              "      <td>0.0</td>\n",
              "      <td>0.000000</td>\n",
              "      <td>...</td>\n",
              "      <td>0.0</td>\n",
              "      <td>0.0</td>\n",
              "      <td>0.0</td>\n",
              "      <td>0.0</td>\n",
              "      <td>0.0</td>\n",
              "      <td>0.0</td>\n",
              "      <td>0.0</td>\n",
              "      <td>0.0</td>\n",
              "      <td>0.0</td>\n",
              "      <td>0.0</td>\n",
              "    </tr>\n",
              "    <tr>\n",
              "      <th>2</th>\n",
              "      <td>0.0</td>\n",
              "      <td>0.0</td>\n",
              "      <td>0.000000</td>\n",
              "      <td>0.0</td>\n",
              "      <td>0.0</td>\n",
              "      <td>0.0</td>\n",
              "      <td>0.0</td>\n",
              "      <td>0.0</td>\n",
              "      <td>0.0</td>\n",
              "      <td>0.000000</td>\n",
              "      <td>...</td>\n",
              "      <td>0.0</td>\n",
              "      <td>0.0</td>\n",
              "      <td>0.0</td>\n",
              "      <td>0.0</td>\n",
              "      <td>0.0</td>\n",
              "      <td>0.0</td>\n",
              "      <td>0.0</td>\n",
              "      <td>0.0</td>\n",
              "      <td>0.0</td>\n",
              "      <td>0.0</td>\n",
              "    </tr>\n",
              "    <tr>\n",
              "      <th>3</th>\n",
              "      <td>0.0</td>\n",
              "      <td>0.0</td>\n",
              "      <td>0.000000</td>\n",
              "      <td>0.0</td>\n",
              "      <td>0.0</td>\n",
              "      <td>0.0</td>\n",
              "      <td>0.0</td>\n",
              "      <td>0.0</td>\n",
              "      <td>0.0</td>\n",
              "      <td>0.000000</td>\n",
              "      <td>...</td>\n",
              "      <td>0.0</td>\n",
              "      <td>0.0</td>\n",
              "      <td>0.0</td>\n",
              "      <td>0.0</td>\n",
              "      <td>0.0</td>\n",
              "      <td>0.0</td>\n",
              "      <td>0.0</td>\n",
              "      <td>0.0</td>\n",
              "      <td>0.0</td>\n",
              "      <td>0.0</td>\n",
              "    </tr>\n",
              "    <tr>\n",
              "      <th>4</th>\n",
              "      <td>0.0</td>\n",
              "      <td>0.0</td>\n",
              "      <td>0.191052</td>\n",
              "      <td>0.0</td>\n",
              "      <td>0.0</td>\n",
              "      <td>0.0</td>\n",
              "      <td>0.0</td>\n",
              "      <td>0.0</td>\n",
              "      <td>0.0</td>\n",
              "      <td>0.180924</td>\n",
              "      <td>...</td>\n",
              "      <td>0.0</td>\n",
              "      <td>0.0</td>\n",
              "      <td>0.0</td>\n",
              "      <td>0.0</td>\n",
              "      <td>0.0</td>\n",
              "      <td>0.0</td>\n",
              "      <td>0.0</td>\n",
              "      <td>0.0</td>\n",
              "      <td>0.0</td>\n",
              "      <td>0.0</td>\n",
              "    </tr>\n",
              "    <tr>\n",
              "      <th>...</th>\n",
              "      <td>...</td>\n",
              "      <td>...</td>\n",
              "      <td>...</td>\n",
              "      <td>...</td>\n",
              "      <td>...</td>\n",
              "      <td>...</td>\n",
              "      <td>...</td>\n",
              "      <td>...</td>\n",
              "      <td>...</td>\n",
              "      <td>...</td>\n",
              "      <td>...</td>\n",
              "      <td>...</td>\n",
              "      <td>...</td>\n",
              "      <td>...</td>\n",
              "      <td>...</td>\n",
              "      <td>...</td>\n",
              "      <td>...</td>\n",
              "      <td>...</td>\n",
              "      <td>...</td>\n",
              "      <td>...</td>\n",
              "      <td>...</td>\n",
              "    </tr>\n",
              "    <tr>\n",
              "      <th>27257</th>\n",
              "      <td>0.0</td>\n",
              "      <td>0.0</td>\n",
              "      <td>0.000000</td>\n",
              "      <td>0.0</td>\n",
              "      <td>0.0</td>\n",
              "      <td>0.0</td>\n",
              "      <td>0.0</td>\n",
              "      <td>0.0</td>\n",
              "      <td>0.0</td>\n",
              "      <td>0.000000</td>\n",
              "      <td>...</td>\n",
              "      <td>0.0</td>\n",
              "      <td>0.0</td>\n",
              "      <td>0.0</td>\n",
              "      <td>0.0</td>\n",
              "      <td>0.0</td>\n",
              "      <td>0.0</td>\n",
              "      <td>0.0</td>\n",
              "      <td>0.0</td>\n",
              "      <td>0.0</td>\n",
              "      <td>0.0</td>\n",
              "    </tr>\n",
              "    <tr>\n",
              "      <th>27258</th>\n",
              "      <td>0.0</td>\n",
              "      <td>0.0</td>\n",
              "      <td>0.000000</td>\n",
              "      <td>0.0</td>\n",
              "      <td>0.0</td>\n",
              "      <td>0.0</td>\n",
              "      <td>0.0</td>\n",
              "      <td>0.0</td>\n",
              "      <td>0.0</td>\n",
              "      <td>0.000000</td>\n",
              "      <td>...</td>\n",
              "      <td>0.0</td>\n",
              "      <td>0.0</td>\n",
              "      <td>0.0</td>\n",
              "      <td>0.0</td>\n",
              "      <td>0.0</td>\n",
              "      <td>0.0</td>\n",
              "      <td>0.0</td>\n",
              "      <td>0.0</td>\n",
              "      <td>0.0</td>\n",
              "      <td>0.0</td>\n",
              "    </tr>\n",
              "    <tr>\n",
              "      <th>27259</th>\n",
              "      <td>0.0</td>\n",
              "      <td>0.0</td>\n",
              "      <td>0.000000</td>\n",
              "      <td>0.0</td>\n",
              "      <td>0.0</td>\n",
              "      <td>0.0</td>\n",
              "      <td>0.0</td>\n",
              "      <td>0.0</td>\n",
              "      <td>0.0</td>\n",
              "      <td>0.000000</td>\n",
              "      <td>...</td>\n",
              "      <td>0.0</td>\n",
              "      <td>0.0</td>\n",
              "      <td>0.0</td>\n",
              "      <td>0.0</td>\n",
              "      <td>0.0</td>\n",
              "      <td>0.0</td>\n",
              "      <td>0.0</td>\n",
              "      <td>0.0</td>\n",
              "      <td>0.0</td>\n",
              "      <td>0.0</td>\n",
              "    </tr>\n",
              "    <tr>\n",
              "      <th>27260</th>\n",
              "      <td>0.0</td>\n",
              "      <td>0.0</td>\n",
              "      <td>0.000000</td>\n",
              "      <td>0.0</td>\n",
              "      <td>0.0</td>\n",
              "      <td>0.0</td>\n",
              "      <td>0.0</td>\n",
              "      <td>0.0</td>\n",
              "      <td>0.0</td>\n",
              "      <td>0.000000</td>\n",
              "      <td>...</td>\n",
              "      <td>0.0</td>\n",
              "      <td>0.0</td>\n",
              "      <td>0.0</td>\n",
              "      <td>0.0</td>\n",
              "      <td>0.0</td>\n",
              "      <td>0.0</td>\n",
              "      <td>0.0</td>\n",
              "      <td>0.0</td>\n",
              "      <td>0.0</td>\n",
              "      <td>0.0</td>\n",
              "    </tr>\n",
              "    <tr>\n",
              "      <th>27261</th>\n",
              "      <td>0.0</td>\n",
              "      <td>0.0</td>\n",
              "      <td>0.000000</td>\n",
              "      <td>0.0</td>\n",
              "      <td>0.0</td>\n",
              "      <td>0.0</td>\n",
              "      <td>0.0</td>\n",
              "      <td>0.0</td>\n",
              "      <td>0.0</td>\n",
              "      <td>0.000000</td>\n",
              "      <td>...</td>\n",
              "      <td>0.0</td>\n",
              "      <td>0.0</td>\n",
              "      <td>0.0</td>\n",
              "      <td>0.0</td>\n",
              "      <td>0.0</td>\n",
              "      <td>0.0</td>\n",
              "      <td>0.0</td>\n",
              "      <td>0.0</td>\n",
              "      <td>0.0</td>\n",
              "      <td>0.0</td>\n",
              "    </tr>\n",
              "  </tbody>\n",
              "</table>\n",
              "<p>27262 rows × 13061 columns</p>\n",
              "</div>"
            ],
            "text/plain": [
              "        00  000       00p   02   03  03dd   04   06  0dd        0p  ...  \\\n",
              "0      0.0  0.0  0.000000  0.0  0.0   0.0  0.0  0.0  0.0  0.000000  ...   \n",
              "1      0.0  0.0  0.000000  0.0  0.0   0.0  0.0  0.0  0.0  0.000000  ...   \n",
              "2      0.0  0.0  0.000000  0.0  0.0   0.0  0.0  0.0  0.0  0.000000  ...   \n",
              "3      0.0  0.0  0.000000  0.0  0.0   0.0  0.0  0.0  0.0  0.000000  ...   \n",
              "4      0.0  0.0  0.191052  0.0  0.0   0.0  0.0  0.0  0.0  0.180924  ...   \n",
              "...    ...  ...       ...  ...  ...   ...  ...  ...  ...       ...  ...   \n",
              "27257  0.0  0.0  0.000000  0.0  0.0   0.0  0.0  0.0  0.0  0.000000  ...   \n",
              "27258  0.0  0.0  0.000000  0.0  0.0   0.0  0.0  0.0  0.0  0.000000  ...   \n",
              "27259  0.0  0.0  0.000000  0.0  0.0   0.0  0.0  0.0  0.0  0.000000  ...   \n",
              "27260  0.0  0.0  0.000000  0.0  0.0   0.0  0.0  0.0  0.0  0.000000  ...   \n",
              "27261  0.0  0.0  0.000000  0.0  0.0   0.0  0.0  0.0  0.0  0.000000  ...   \n",
              "\n",
              "       zippie  zipping  zips  zombie  zone  zoolander  zoom  zooming  zuma  \\\n",
              "0         0.0      0.0   0.0     0.0   0.0        0.0   0.0      0.0   0.0   \n",
              "1         0.0      0.0   0.0     0.0   0.0        0.0   0.0      0.0   0.0   \n",
              "2         0.0      0.0   0.0     0.0   0.0        0.0   0.0      0.0   0.0   \n",
              "3         0.0      0.0   0.0     0.0   0.0        0.0   0.0      0.0   0.0   \n",
              "4         0.0      0.0   0.0     0.0   0.0        0.0   0.0      0.0   0.0   \n",
              "...       ...      ...   ...     ...   ...        ...   ...      ...   ...   \n",
              "27257     0.0      0.0   0.0     0.0   0.0        0.0   0.0      0.0   0.0   \n",
              "27258     0.0      0.0   0.0     0.0   0.0        0.0   0.0      0.0   0.0   \n",
              "27259     0.0      0.0   0.0     0.0   0.0        0.0   0.0      0.0   0.0   \n",
              "27260     0.0      0.0   0.0     0.0   0.0        0.0   0.0      0.0   0.0   \n",
              "27261     0.0      0.0   0.0     0.0   0.0        0.0   0.0      0.0   0.0   \n",
              "\n",
              "       ã¼ber  \n",
              "0        0.0  \n",
              "1        0.0  \n",
              "2        0.0  \n",
              "3        0.0  \n",
              "4        0.0  \n",
              "...      ...  \n",
              "27257    0.0  \n",
              "27258    0.0  \n",
              "27259    0.0  \n",
              "27260    0.0  \n",
              "27261    0.0  \n",
              "\n",
              "[27262 rows x 13061 columns]"
            ]
          },
          "execution_count": 61,
          "metadata": {},
          "output_type": "execute_result"
        }
      ],
      "source": [
        "pd.DataFrame(X_train_tf_idf.toarray(), columns = tf_idf_vectorizer.get_feature_names())"
      ]
    },
    {
      "cell_type": "markdown",
      "metadata": {
        "id": "hRu1qAzrDult"
      },
      "source": [
        "# Modeling "
      ]
    },
    {
      "cell_type": "code",
      "execution_count": null,
      "metadata": {
        "execution": {
          "iopub.execute_input": "2022-10-21T10:30:35.753346Z",
          "iopub.status.busy": "2022-10-21T10:30:35.753017Z",
          "iopub.status.idle": "2022-10-21T10:30:35.870312Z",
          "shell.execute_reply": "2022-10-21T10:30:35.869506Z",
          "shell.execute_reply.started": "2022-10-21T10:30:35.753301Z"
        },
        "id": "aFIgAZ0yDjpe"
      },
      "outputs": [],
      "source": [
        "#import models\n",
        "from sklearn.tree import DecisionTreeClassifier\n",
        "from sklearn.ensemble import RandomForestClassifier\n",
        "from sklearn.ensemble import AdaBoostClassifier\n",
        "from sklearn.linear_model import LogisticRegression\n",
        "from sklearn.svm import SVC\n"
      ]
    },
    {
      "cell_type": "code",
      "execution_count": null,
      "metadata": {
        "execution": {
          "iopub.execute_input": "2022-10-21T10:30:35.872613Z",
          "iopub.status.busy": "2022-10-21T10:30:35.872295Z",
          "iopub.status.idle": "2022-10-21T10:30:35.878695Z",
          "shell.execute_reply": "2022-10-21T10:30:35.877457Z",
          "shell.execute_reply.started": "2022-10-21T10:30:35.872578Z"
        },
        "id": "ZjPqqD6lDK9k"
      },
      "outputs": [],
      "source": [
        "#importing validation models\n",
        "from sklearn.metrics import accuracy_score\n",
        "from sklearn.metrics import precision_score\n",
        "from sklearn.metrics import recall_score\n",
        "from sklearn.metrics import  f1_score\n",
        "from sklearn.metrics import confusion_matrix,classification_report,plot_confusion_matrix,ConfusionMatrixDisplay"
      ]
    },
    {
      "cell_type": "code",
      "execution_count": null,
      "metadata": {
        "execution": {
          "iopub.execute_input": "2022-10-21T10:30:35.880522Z",
          "iopub.status.busy": "2022-10-21T10:30:35.880159Z",
          "iopub.status.idle": "2022-10-21T10:30:35.893539Z",
          "shell.execute_reply": "2022-10-21T10:30:35.892277Z",
          "shell.execute_reply.started": "2022-10-21T10:30:35.880475Z"
        },
        "id": "4k_L5LsUDw-k"
      },
      "outputs": [],
      "source": [
        "def classification_task( model,X_train_scaled, y_train ,X_test_scaled ,y_test, predic,model_name):\n",
        " \n",
        "    perf_df=pd.DataFrame({'Train_Score':model.score(X_train_scaled,y_train),\"Test_Score\":model.score(X_test_scaled,y_test),\n",
        "                       \"Precision_Score\":precision_score(y_test,predic),\"Recall_Score\":recall_score(y_test,predic),\n",
        "                       \"F1_Score\":f1_score(y_test,predic) , \"accuracy\":accuracy_score(y_test,predic)}, index=[model_name])\n",
        "    return perf_df"
      ]
    },
    {
      "cell_type": "markdown",
      "metadata": {
        "id": "0YFwxuWuMeYL"
      },
      "source": [
        "# Logistic Regression"
      ]
    },
    {
      "cell_type": "code",
      "execution_count": null,
      "metadata": {
        "execution": {
          "iopub.execute_input": "2022-10-21T10:30:36.892349Z",
          "iopub.status.busy": "2022-10-21T10:30:36.891658Z",
          "iopub.status.idle": "2022-10-21T10:30:38.376222Z",
          "shell.execute_reply": "2022-10-21T10:30:38.374936Z",
          "shell.execute_reply.started": "2022-10-21T10:30:36.892302Z"
        },
        "id": "qRxDIe64M21_"
      },
      "outputs": [],
      "source": [
        "# Train the Logistic Regression model on the scaled data and print the model score\n",
        "lr = LogisticRegression()\n",
        "# Fit the model\n",
        "lr.fit(X_train_tf_idf, y_train)\n",
        "#predict x_test\n",
        "pred_2 = lr.predict(X_test_tf_idf)"
      ]
    },
    {
      "cell_type": "code",
      "execution_count": null,
      "metadata": {
        "execution": {
          "iopub.execute_input": "2022-10-21T10:30:38.385796Z",
          "iopub.status.busy": "2022-10-21T10:30:38.384753Z",
          "iopub.status.idle": "2022-10-21T10:30:38.456997Z",
          "shell.execute_reply": "2022-10-21T10:30:38.455740Z",
          "shell.execute_reply.started": "2022-10-21T10:30:38.385726Z"
        },
        "id": "yhrZn2AENEsO"
      },
      "outputs": [],
      "source": [
        "Eval_lr= classification_task(lr,X_train_tf_idf, y_train ,X_test_tf_idf ,y_test,pred_2,\"logisitc regression\" )"
      ]
    },
    {
      "cell_type": "code",
      "execution_count": null,
      "metadata": {
        "execution": {
          "iopub.execute_input": "2022-10-21T10:30:39.227619Z",
          "iopub.status.busy": "2022-10-21T10:30:39.227291Z",
          "iopub.status.idle": "2022-10-21T10:30:39.511082Z",
          "shell.execute_reply": "2022-10-21T10:30:39.510110Z",
          "shell.execute_reply.started": "2022-10-21T10:30:39.227585Z"
        },
        "id": "HL0AvAdmMvlf",
        "outputId": "65f49b82-7cbc-42d6-cdb8-1011d4884730"
      },
      "outputs": [
        {
          "data": {
            "image/png": "[encoded data removed]",
            "text/plain": [
              "<Figure size 432x288 with 2 Axes>"
            ]
          },
          "metadata": {
            "needs_background": "light"
          },
          "output_type": "display_data"
        }
      ],
      "source": [
        "#creating confusion matrix to know the errors\n",
        "conf = confusion_matrix(y_test, pred_2 ,normalize=\"all\")\n",
        "disp = ConfusionMatrixDisplay(conf).plot(cmap=plt.cm.PuBuGn)"
      ]
    },
    {
      "cell_type": "markdown",
      "metadata": {
        "id": "kxP7NmX4S4Jp"
      },
      "source": [
        "# SVM"
      ]
    },
    {
      "cell_type": "code",
      "execution_count": null,
      "metadata": {
        "execution": {
          "iopub.execute_input": "2022-10-21T10:30:51.130086Z",
          "iopub.status.busy": "2022-10-21T10:30:51.129783Z",
          "iopub.status.idle": "2022-10-21T10:37:02.541265Z",
          "shell.execute_reply": "2022-10-21T10:37:02.539828Z",
          "shell.execute_reply.started": "2022-10-21T10:30:51.130056Z"
        },
        "id": "X2nINw2uRpJ2"
      },
      "outputs": [],
      "source": [
        "# Train the svc model on the scaled data and print the model score\n",
        "svc = SVC(random_state=0,C=0.2,kernel='rbf')\n",
        "#fitting model\n",
        "svc.fit(X_train_tf_idf, y_train)\n",
        "#predict\n",
        "pred_svc = svc.predict(X_test_tf_idf)"
      ]
    },
    {
      "cell_type": "code",
      "execution_count": null,
      "metadata": {
        "execution": {
          "iopub.execute_input": "2022-10-21T10:37:02.544192Z",
          "iopub.status.busy": "2022-10-21T10:37:02.543930Z",
          "iopub.status.idle": "2022-10-21T10:41:26.333044Z",
          "shell.execute_reply": "2022-10-21T10:41:26.331971Z",
          "shell.execute_reply.started": "2022-10-21T10:37:02.544163Z"
        },
        "id": "wZ8AjxgaTPJt"
      },
      "outputs": [],
      "source": [
        "Eval_svc= classification_task(svc,X_train_tf_idf, y_train ,X_test_tf_idf ,y_test,pred_svc,\"SVC\" )"
      ]
    },
    {
      "cell_type": "code",
      "execution_count": null,
      "metadata": {
        "execution": {
          "iopub.execute_input": "2022-10-21T10:41:26.334700Z",
          "iopub.status.busy": "2022-10-21T10:41:26.334334Z",
          "iopub.status.idle": "2022-10-21T10:41:26.597386Z",
          "shell.execute_reply": "2022-10-21T10:41:26.596479Z",
          "shell.execute_reply.started": "2022-10-21T10:41:26.334664Z"
        },
        "id": "aQ4uzKfgWyJi",
        "outputId": "dad34ef3-8eac-4385-85ff-0ebba2f64f78"
      },
      "outputs": [
        {
          "data": {
            "image/png": "[encoded data removed]",
            "text/plain": [
              "<Figure size 432x288 with 2 Axes>"
            ]
          },
          "metadata": {
            "needs_background": "light"
          },
          "output_type": "display_data"
        }
      ],
      "source": [
        "#creating confusion matrix to know the errors\n",
        "conf = confusion_matrix(y_test, pred_svc ,normalize=\"all\")\n",
        "disp = ConfusionMatrixDisplay(conf).plot(cmap=plt.cm.PuBuGn)"
      ]
    },
    {
      "cell_type": "markdown",
      "metadata": {
        "id": "_7k_x7v-YNfi"
      },
      "source": [
        "# Random Forest "
      ]
    },
    {
      "cell_type": "code",
      "execution_count": null,
      "metadata": {
        "execution": {
          "iopub.execute_input": "2022-10-21T10:41:26.599936Z",
          "iopub.status.busy": "2022-10-21T10:41:26.599660Z",
          "iopub.status.idle": "2022-10-21T10:42:00.828105Z",
          "shell.execute_reply": "2022-10-21T10:42:00.826957Z",
          "shell.execute_reply.started": "2022-10-21T10:41:26.599901Z"
        },
        "id": "JrfUDb3RXn_O"
      },
      "outputs": [],
      "source": [
        "# Train Random forest model on the scaled data\n",
        "Random_Forest= RandomForestClassifier()\n",
        "# Fit the model\n",
        "Random_Forest.fit(X_train_tf_idf,y_train)\n",
        "#predict x_test_scaled\n",
        "pred_rand = Random_Forest.predict(X_test_tf_idf)"
      ]
    },
    {
      "cell_type": "code",
      "execution_count": null,
      "metadata": {
        "execution": {
          "iopub.execute_input": "2022-10-21T10:42:00.830766Z",
          "iopub.status.busy": "2022-10-21T10:42:00.830352Z",
          "iopub.status.idle": "2022-10-21T10:42:02.469802Z",
          "shell.execute_reply": "2022-10-21T10:42:02.468592Z",
          "shell.execute_reply.started": "2022-10-21T10:42:00.830728Z"
        },
        "id": "EWVfCcbrYeoS"
      },
      "outputs": [],
      "source": [
        "Eval_fores= classification_task(Random_Forest,X_train_tf_idf, y_train ,X_test_tf_idf ,y_test,pred_rand,\"Random Forest\" )"
      ]
    },
    {
      "cell_type": "code",
      "execution_count": null,
      "metadata": {
        "execution": {
          "iopub.execute_input": "2022-10-21T10:42:02.472295Z",
          "iopub.status.busy": "2022-10-21T10:42:02.471858Z",
          "iopub.status.idle": "2022-10-21T10:42:02.741983Z",
          "shell.execute_reply": "2022-10-21T10:42:02.740774Z",
          "shell.execute_reply.started": "2022-10-21T10:42:02.472244Z"
        },
        "id": "NXtbDt5FYmLX",
        "outputId": "9e239cdb-cdc8-44aa-a590-dcdab872f4ba"
      },
      "outputs": [
        {
          "data": {
            "image/png": "[encoded data removed]",
            "text/plain": [
              "<Figure size 432x288 with 2 Axes>"
            ]
          },
          "metadata": {
            "needs_background": "light"
          },
          "output_type": "display_data"
        }
      ],
      "source": [
        "#creating confusion matrix to know the errors\n",
        "conf = confusion_matrix(y_test, pred_rand ,normalize=\"all\")\n",
        "disp = ConfusionMatrixDisplay(conf).plot(cmap=plt.cm.PuBuGn)"
      ]
    },
    {
      "cell_type": "markdown",
      "metadata": {
        "id": "WmbFZMmVZj7Z"
      },
      "source": [
        "# Decision Tree "
      ]
    },
    {
      "cell_type": "code",
      "execution_count": null,
      "metadata": {
        "execution": {
          "iopub.execute_input": "2022-10-21T10:42:02.743821Z",
          "iopub.status.busy": "2022-10-21T10:42:02.743476Z",
          "iopub.status.idle": "2022-10-21T10:42:17.262038Z",
          "shell.execute_reply": "2022-10-21T10:42:17.260823Z",
          "shell.execute_reply.started": "2022-10-21T10:42:02.743780Z"
        },
        "id": "RioMZlxsYusK"
      },
      "outputs": [],
      "source": [
        "# Train decision tree model on the scaled data\n",
        "Decision_Tree = DecisionTreeClassifier() \n",
        "# Fit the model\n",
        "Decision_Tree.fit(X_train_tf_idf,y_train)\n",
        "#predict x_test_scaled\n",
        "pred_ = Decision_Tree.predict(X_test_tf_idf)"
      ]
    },
    {
      "cell_type": "code",
      "execution_count": null,
      "metadata": {
        "execution": {
          "iopub.execute_input": "2022-10-21T10:42:17.264883Z",
          "iopub.status.busy": "2022-10-21T10:42:17.264003Z",
          "iopub.status.idle": "2022-10-21T10:42:17.312080Z",
          "shell.execute_reply": "2022-10-21T10:42:17.310999Z",
          "shell.execute_reply.started": "2022-10-21T10:42:17.264827Z"
        },
        "id": "DYc5-bDoZAFD"
      },
      "outputs": [],
      "source": [
        "Eval_dec = classification_task(Decision_Tree,X_train_tf_idf, y_train ,X_test_tf_idf,y_test,pred_,\"Decision Tree\" )"
      ]
    },
    {
      "cell_type": "code",
      "execution_count": null,
      "metadata": {
        "execution": {
          "iopub.execute_input": "2022-10-21T10:42:17.314031Z",
          "iopub.status.busy": "2022-10-21T10:42:17.313676Z",
          "iopub.status.idle": "2022-10-21T10:42:17.579108Z",
          "shell.execute_reply": "2022-10-21T10:42:17.578235Z",
          "shell.execute_reply.started": "2022-10-21T10:42:17.313994Z"
        },
        "id": "0Fw_XjJWZOoq",
        "outputId": "b4678ce6-a97d-447b-eb94-eae0a0da4de4"
      },
      "outputs": [
        {
          "data": {
            "image/png": "[encoded data removed]",
            "text/plain": [
              "<Figure size 432x288 with 2 Axes>"
            ]
          },
          "metadata": {
            "needs_background": "light"
          },
          "output_type": "display_data"
        }
      ],
      "source": [
        "#creating confusion matrix to know the errors\n",
        "conf = confusion_matrix(y_test, pred_ ,normalize=\"all\")\n",
        "disp = ConfusionMatrixDisplay(conf).plot(cmap=plt.cm.PuBuGn)"
      ]
    }
  ],
  "metadata": {
    "kernelspec": {
      "display_name": "Python 3 (ipykernel)",
      "language": "python",
      "name": "python3"
    },
    "language_info": {
      "codemirror_mode": {
        "name": "ipython",
        "version": 3
      },
      "file_extension": ".py",
      "mimetype": "text/x-python",
      "name": "python",
      "nbconvert_exporter": "python",
      "pygments_lexer": "ipython3",
      "version": "3.9.7"
    },
    "colab": {
      "provenance": []
    }
  },
  "nbformat": 4,
  "nbformat_minor": 0
}